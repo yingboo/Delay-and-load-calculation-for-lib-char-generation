{
 "cells": [
  {
   "cell_type": "code",
   "execution_count": 2,
   "id": "f80efa97",
   "metadata": {},
   "outputs": [],
   "source": [
    "from funs import *\n",
    "import os\n",
    "import numpy as np\n",
    "import pandas as pd\n",
    "from PySpice.Spice.Xyce.Server import XyceServer\n",
    "from lmfit import minimize, Parameters\n",
    "import lmfit\n",
    "import time\n",
    "import pandas as pd\n",
    "import csv\n",
    "from scipy.interpolate import interp1d\n",
    "from scipy.interpolate import InterpolatedUnivariateSpline"
   ]
  },
  {
   "cell_type": "code",
   "execution_count": 3,
   "id": "fbfa3d08",
   "metadata": {},
   "outputs": [
    {
     "name": "stderr",
     "output_type": "stream",
     "text": [
      "C:\\Users\\y50046737\\AppData\\Local\\Temp\\ipykernel_32680\\1681964502.py:9: FutureWarning: The 'delim_whitespace' keyword in pd.read_csv is deprecated and will be removed in a future version. Use ``sep='\\s+'`` instead\n",
      "  df = pd.read_csv('netlist_1.sp.prn', delim_whitespace=True, skiprows=1, header=None)[[1, 5]]\n"
     ]
    }
   ],
   "source": [
    "C_eq = 6.2230e-16\n",
    "time, output = run_tran_inv(C_eq)\n",
    "\n",
    "time = np.array(time)\n",
    "output = np.array(output)\n",
    "output = 0.7 - output\n",
    "\n",
    "\n",
    "df = pd.read_csv('netlist_1.sp.prn', delim_whitespace=True, skiprows=1, header=None)[[1, 5]]\n",
    "df = df.apply(pd.to_numeric, errors='coerce')  \n",
    "df.dropna(inplace=True) \n",
    "target_data = df.values\n"
   ]
  },
  {
   "cell_type": "code",
   "execution_count": 4,
   "id": "ece4c90b",
   "metadata": {},
   "outputs": [
    {
     "data": {
      "image/png": "[encoded data removed]",
      "text/plain": [
       "<Figure size 640x480 with 1 Axes>"
      ]
     },
     "metadata": {},
     "output_type": "display_data"
    },
    {
     "name": "stdout",
     "output_type": "stream",
     "text": [
      "[0.00000000e+00 5.00000000e-13 1.50000000e-12 3.50000000e-12\n",
      " 7.50000000e-12 1.55000000e-11 2.55000000e-11 3.55000000e-11\n",
      " 4.55000000e-11 5.55000000e-11 6.55000000e-11 7.55000000e-11\n",
      " 8.55000000e-11 9.55000000e-11 1.00000000e-10 1.00006250e-10\n",
      " 1.00018750e-10 1.00031250e-10 1.00056250e-10 1.00081250e-10\n",
      " 1.00131250e-10 1.00181250e-10 1.00231250e-10 1.00331250e-10\n",
      " 1.00531250e-10 1.00731250e-10 1.00765679e-10 1.00800107e-10\n",
      " 1.00868965e-10 1.00937822e-10 1.01000000e-10 1.01006886e-10\n",
      " 1.01013083e-10 1.01019280e-10 1.01031674e-10 1.01056463e-10\n",
      " 1.01081252e-10 1.01130829e-10 1.01180406e-10 1.01279561e-10\n",
      " 1.01378715e-10 1.01477870e-10 1.01676179e-10 1.02072797e-10\n",
      " 1.02469415e-10 1.02866034e-10 1.03262652e-10 1.03619608e-10\n",
      " 1.03919640e-10 1.04181793e-10 1.04417731e-10 1.04653669e-10\n",
      " 1.04889606e-10 1.05125544e-10 1.05361482e-10 1.05597420e-10\n",
      " 1.06069295e-10 1.06541170e-10 1.07013046e-10 1.07424253e-10\n",
      " 1.07770247e-10 1.08080418e-10 1.08390588e-10 1.08700759e-10\n",
      " 1.09010929e-10 1.09321100e-10 1.09631271e-10 1.10251612e-10\n",
      " 1.10795706e-10 1.11277825e-10 1.11671333e-10 1.12009019e-10\n",
      " 1.12346705e-10 1.12684391e-10 1.13022077e-10 1.13359763e-10\n",
      " 1.13697449e-10 1.14372821e-10 1.15048192e-10 1.15723564e-10\n",
      " 1.16398936e-10 1.17074308e-10 1.17682143e-10 1.18289978e-10\n",
      " 1.18897812e-10 1.19505647e-10 1.20113482e-10 1.20721316e-10\n",
      " 1.21936986e-10 1.24368325e-10 1.26799664e-10 1.31662341e-10\n",
      " 1.35877588e-10 1.44308082e-10 1.52738576e-10 1.69599564e-10\n",
      " 1.99599564e-10 2.29599564e-10 2.59599564e-10 2.89599564e-10\n",
      " 3.00000000e-10]\n",
      "[ 6.99998632e-01  6.99998632e-01  6.99998632e-01  6.99998632e-01\n",
      "  6.99998632e-01  6.99998632e-01  6.99998632e-01  6.99998632e-01\n",
      "  6.99998632e-01  6.99998632e-01  6.99998632e-01  6.99998632e-01\n",
      "  6.99998632e-01  6.99998632e-01  6.99998632e-01  6.99997212e-01\n",
      "  6.99988064e-01  6.99975412e-01  6.99927561e-01  6.99850597e-01\n",
      "  6.99643489e-01  6.99415067e-01  6.99209645e-01  6.98910738e-01\n",
      "  6.98660763e-01  6.98745339e-01  6.98794145e-01  6.98848683e-01\n",
      "  6.98995497e-01  6.99195410e-01  6.99418942e-01  6.99447900e-01\n",
      "  6.99475681e-01  6.99504386e-01  6.99567890e-01  6.99721284e-01\n",
      "  6.99907535e-01  7.00336440e-01  7.00782576e-01  7.01549242e-01\n",
      "  7.02097517e-01  7.02447742e-01  7.02734999e-01  7.02412114e-01\n",
      "  7.01638462e-01  7.00904555e-01  7.00182056e-01  6.99263366e-01\n",
      "  6.98166022e-01  6.97037798e-01  6.96029149e-01  6.95154594e-01\n",
      "  6.94469041e-01  6.93965741e-01  6.93599710e-01  6.93331533e-01\n",
      "  6.93122354e-01  6.93809753e-01  6.96310610e-01  7.00700610e-01\n",
      "  7.06135998e-01  7.11946793e-01  7.18077961e-01  7.24102342e-01\n",
      "  7.29765999e-01  7.35004223e-01  7.39813527e-01  7.45687254e-01\n",
      "  7.41509878e-01  7.24579209e-01  6.99832598e-01  6.71591127e-01\n",
      "  6.38365135e-01  6.01601525e-01  5.62476869e-01  5.21907349e-01\n",
      "  4.80564612e-01  3.97731400e-01  3.17143551e-01  2.42237794e-01\n",
      "  1.76889066e-01  1.24286467e-01  8.84775728e-02  6.22341716e-02\n",
      "  4.34940289e-02  3.03128372e-02  2.11154911e-02  1.47202905e-02\n",
      "  7.00679882e-03  1.23041706e-03  2.33286062e-04 -3.33779756e-05\n",
      "  4.71135400e-06  4.93293978e-07  2.17437566e-06  1.43740148e-06\n",
      "  1.90765685e-06  1.57687408e-06  1.79530204e-06  1.66758718e-06\n",
      "  1.67414680e-06]\n"
     ]
    }
   ],
   "source": [
    "plt.plot(time, output, linestyle='-')\n",
    "plt.plot(target_data[:,0], target_data[:,1], linestyle='-')\n",
    "plt.xlabel('time (s)')\n",
    "plt.ylabel('output (F)')\n",
    "plt.title('Cgg vs Vgate for different Vdc values')\n",
    "plt.grid(True)\n",
    "plt.show()\n",
    "print(time)\n",
    "print(output)"
   ]
  },
  {
   "cell_type": "code",
   "execution_count": 26,
   "id": "2b802ddb",
   "metadata": {},
   "outputs": [],
   "source": [
    "def calculate_error(sim_data, target_data):\n",
    "    return np.mean((np.array(sim_data) - np.array(target_data))**2)\n",
    "\n",
    "def get_points(data):\n",
    "\n",
    "    vdd = 0.7\n",
    "    v20 = 0.2 * vdd\n",
    "    v80 = 0.8 * vdd\n",
    "    v10 = 0.1 * vdd\n",
    "    v90 = 0.9 * vdd\n",
    "    data = list(zip(*data))\n",
    "    time = np.array(data[0])\n",
    "    Vout = np.array(data[1])\n",
    "\n",
    "    f_interp = interp1d(Vout, time, kind='linear', fill_value='extrapolate')\n",
    "\n",
    "\n",
    "    t20 = f_interp(v20)\n",
    "    t80 = f_interp(v80)\n",
    "    t10 = f_interp(v10)\n",
    "    t90 = f_interp(v90)\n",
    "    delay1 =t20-t80\n",
    "    delay2 =t10-t90\n",
    "\n",
    "    \n",
    "    return [delay1,delay2]\n",
    "\n",
    "\n",
    "def objective_function(params):\n",
    "    total_error = 0.0\n",
    "    C_eq = params['C_eq'].value\n",
    "    print(\"Current parameters:\", params)\n",
    "    # Run simulations\n",
    "    time, output = run_tran(C_eq)\n",
    "    data = np.column_stack((time, output))\n",
    "\n",
    "\n",
    "    df = pd.read_csv('netlist.sp.prn', delim_whitespace=True, skiprows=1, header=None)[[1, 4]]\n",
    "    df = df.apply(pd.to_numeric, errors='coerce')  \n",
    "    df.dropna(inplace=True) \n",
    "\n",
    "    target_data = df.values\n",
    "\n",
    "    points = get_points(data)\n",
    "    target_points = get_points(target_data)\n",
    "    points=np.array(points)\n",
    "    target_points = np.array(target_points)\n",
    "    \n",
    "\n",
    "    total_error += calculate_error(points*1e10, target_points*1e10) #0.1ns\n",
    "    \n",
    "    print(\"Current error:\", total_error)\n",
    "    return total_error"
   ]
  },
  {
   "cell_type": "code",
   "execution_count": null,
   "id": "e1f9f6f5",
   "metadata": {},
   "outputs": [
    {
     "name": "stderr",
     "output_type": "stream",
     "text": [
      "C:\\Users\\y50046737\\AppData\\Local\\Temp\\ipykernel_32680\\558256704.py:7: FutureWarning: The 'delim_whitespace' keyword in pd.read_csv is deprecated and will be removed in a future version. Use ``sep='\\s+'`` instead\n",
      "  df = pd.read_csv('netlist.sp.prn', delim_whitespace=True, skiprows=1, header=None)[[1, 5]]\n"
     ]
    },
    {
     "ename": "NameError",
     "evalue": "name 'get_points' is not defined",
     "output_type": "error",
     "traceback": [
      "\u001b[1;31m---------------------------------------------------------------------------\u001b[0m",
      "\u001b[1;31mNameError\u001b[0m                                 Traceback (most recent call last)",
      "Cell \u001b[1;32mIn[5], line 12\u001b[0m\n\u001b[0;32m      9\u001b[0m df\u001b[38;5;241m.\u001b[39mdropna(inplace\u001b[38;5;241m=\u001b[39m\u001b[38;5;28;01mTrue\u001b[39;00m)  \n\u001b[0;32m     10\u001b[0m target_data \u001b[38;5;241m=\u001b[39m df\u001b[38;5;241m.\u001b[39mvalues\n\u001b[1;32m---> 12\u001b[0m target_points \u001b[38;5;241m=\u001b[39m \u001b[43mget_points\u001b[49m(target_data)\n\u001b[0;32m     13\u001b[0m points \u001b[38;5;241m=\u001b[39m get_points(data)\n\u001b[0;32m     14\u001b[0m points\u001b[38;5;241m=\u001b[39m np\u001b[38;5;241m.\u001b[39marray(points)\n",
      "\u001b[1;31mNameError\u001b[0m: name 'get_points' is not defined"
     ]
    }
   ],
   "source": [
    "time, output_ = run_tran_inv(1.0000e-15)\n",
    "time = np.array(time)\n",
    "output_ = np.array(output_)\n",
    "output_ = 0.7-output_\n",
    "data = np.column_stack((time, output_))\n",
    "\n",
    "df = pd.read_csv('netlist_1.sp.prn', delim_whitespace=True, skiprows=1, header=None)[[1, 5]]\n",
    "df = df.apply(pd.to_numeric, errors='coerce')  \n",
    "df.dropna(inplace=True)  \n",
    "target_data = df.values\n",
    "\n",
    "target_points = get_points(target_data)\n",
    "points = get_points(data)\n",
    "points= np.array(points)\n",
    "target_points=np.array(target_points)\n",
    "print(target_points * 1e10)\n",
    "print(points * 1e10)"
   ]
  },
  {
   "cell_type": "code",
   "execution_count": 27,
   "id": "9b08fc09",
   "metadata": {},
   "outputs": [
    {
     "name": "stdout",
     "output_type": "stream",
     "text": [
      "Current parameters: Parameters([('C_eq', <Parameter 'C_eq', value=np.float64(1.0000000000017894e-15), bounds=[1e-24:1e-10]>)])\n"
     ]
    },
    {
     "name": "stderr",
     "output_type": "stream",
     "text": [
      "C:\\Users\\y50046737\\AppData\\Local\\Temp\\ipykernel_23020\\2037271555.py:38: FutureWarning: The 'delim_whitespace' keyword in pd.read_csv is deprecated and will be removed in a future version. Use ``sep='\\s+'`` instead\n",
      "  df = pd.read_csv('netlist.sp.prn', delim_whitespace=True, skiprows=1, header=None)[[1, 4]]\n"
     ]
    },
    {
     "name": "stdout",
     "output_type": "stream",
     "text": [
      "Current error: 8.710442103283403e-06\n",
      "Current parameters: Parameters([('C_eq', <Parameter 'C_eq', value=np.float64(1.0000047121435773e-15), bounds=[1e-24:1e-10]>)])\n"
     ]
    },
    {
     "name": "stderr",
     "output_type": "stream",
     "text": [
      "C:\\Users\\y50046737\\AppData\\Local\\Temp\\ipykernel_23020\\2037271555.py:38: FutureWarning: The 'delim_whitespace' keyword in pd.read_csv is deprecated and will be removed in a future version. Use ``sep='\\s+'`` instead\n",
      "  df = pd.read_csv('netlist.sp.prn', delim_whitespace=True, skiprows=1, header=None)[[1, 4]]\n"
     ]
    },
    {
     "name": "stdout",
     "output_type": "stream",
     "text": [
      "Current error: 8.710626760157064e-06\n",
      "Current parameters: Parameters([('C_eq', <Parameter 'C_eq', value=np.float64(9.20375391739405e-16), bounds=[1e-24:1e-10]>)])\n"
     ]
    },
    {
     "name": "stderr",
     "output_type": "stream",
     "text": [
      "C:\\Users\\y50046737\\AppData\\Local\\Temp\\ipykernel_23020\\2037271555.py:38: FutureWarning: The 'delim_whitespace' keyword in pd.read_csv is deprecated and will be removed in a future version. Use ``sep='\\s+'`` instead\n",
      "  df = pd.read_csv('netlist.sp.prn', delim_whitespace=True, skiprows=1, header=None)[[1, 4]]\n"
     ]
    },
    {
     "name": "stdout",
     "output_type": "stream",
     "text": [
      "Current error: 5.823001613111708e-06\n",
      "Current parameters: Parameters([('C_eq', <Parameter 'C_eq', value=np.float64(9.203708710944355e-16), bounds=[1e-24:1e-10]>)])\n"
     ]
    },
    {
     "name": "stderr",
     "output_type": "stream",
     "text": [
      "C:\\Users\\y50046737\\AppData\\Local\\Temp\\ipykernel_23020\\2037271555.py:38: FutureWarning: The 'delim_whitespace' keyword in pd.read_csv is deprecated and will be removed in a future version. Use ``sep='\\s+'`` instead\n",
      "  df = pd.read_csv('netlist.sp.prn', delim_whitespace=True, skiprows=1, header=None)[[1, 4]]\n"
     ]
    },
    {
     "name": "stdout",
     "output_type": "stream",
     "text": [
      "Current error: 5.822851249106116e-06\n",
      "Current parameters: Parameters([('C_eq', <Parameter 'C_eq', value=np.float64(7.53371634749326e-16), bounds=[1e-24:1e-10]>)])\n"
     ]
    },
    {
     "name": "stderr",
     "output_type": "stream",
     "text": [
      "C:\\Users\\y50046737\\AppData\\Local\\Temp\\ipykernel_23020\\2037271555.py:38: FutureWarning: The 'delim_whitespace' keyword in pd.read_csv is deprecated and will be removed in a future version. Use ``sep='\\s+'`` instead\n",
      "  df = pd.read_csv('netlist.sp.prn', delim_whitespace=True, skiprows=1, header=None)[[1, 4]]\n"
     ]
    },
    {
     "name": "stdout",
     "output_type": "stream",
     "text": [
      "Current error: 1.8301320088235612e-06\n",
      "Current parameters: Parameters([('C_eq', <Parameter 'C_eq', value=np.float64(7.533675447598678e-16), bounds=[1e-24:1e-10]>)])\n"
     ]
    },
    {
     "name": "stderr",
     "output_type": "stream",
     "text": [
      "C:\\Users\\y50046737\\AppData\\Local\\Temp\\ipykernel_23020\\2037271555.py:38: FutureWarning: The 'delim_whitespace' keyword in pd.read_csv is deprecated and will be removed in a future version. Use ``sep='\\s+'`` instead\n",
      "  df = pd.read_csv('netlist.sp.prn', delim_whitespace=True, skiprows=1, header=None)[[1, 4]]\n"
     ]
    },
    {
     "name": "stdout",
     "output_type": "stream",
     "text": [
      "Current error: 1.8300746461576978e-06\n",
      "Current parameters: Parameters([('C_eq', <Parameter 'C_eq', value=np.float64(6.58694040290524e-16), bounds=[1e-24:1e-10]>)])\n"
     ]
    },
    {
     "name": "stderr",
     "output_type": "stream",
     "text": [
      "C:\\Users\\y50046737\\AppData\\Local\\Temp\\ipykernel_23020\\2037271555.py:38: FutureWarning: The 'delim_whitespace' keyword in pd.read_csv is deprecated and will be removed in a future version. Use ``sep='\\s+'`` instead\n",
      "  df = pd.read_csv('netlist.sp.prn', delim_whitespace=True, skiprows=1, header=None)[[1, 4]]\n"
     ]
    },
    {
     "name": "stdout",
     "output_type": "stream",
     "text": [
      "Current error: 1.0070473184364178e-06\n",
      "Current parameters: Parameters([('C_eq', <Parameter 'C_eq', value=np.float64(6.586902159219244e-16), bounds=[1e-24:1e-10]>)])\n"
     ]
    },
    {
     "name": "stderr",
     "output_type": "stream",
     "text": [
      "C:\\Users\\y50046737\\AppData\\Local\\Temp\\ipykernel_23020\\2037271555.py:38: FutureWarning: The 'delim_whitespace' keyword in pd.read_csv is deprecated and will be removed in a future version. Use ``sep='\\s+'`` instead\n",
      "  df = pd.read_csv('netlist.sp.prn', delim_whitespace=True, skiprows=1, header=None)[[1, 4]]\n"
     ]
    },
    {
     "name": "stdout",
     "output_type": "stream",
     "text": [
      "Current error: 1.0070284764759781e-06\n",
      "Current parameters: Parameters([('C_eq', <Parameter 'C_eq', value=np.float64(6.146981118012756e-16), bounds=[1e-24:1e-10]>)])\n"
     ]
    },
    {
     "name": "stderr",
     "output_type": "stream",
     "text": [
      "C:\\Users\\y50046737\\AppData\\Local\\Temp\\ipykernel_23020\\2037271555.py:38: FutureWarning: The 'delim_whitespace' keyword in pd.read_csv is deprecated and will be removed in a future version. Use ``sep='\\s+'`` instead\n",
      "  df = pd.read_csv('netlist.sp.prn', delim_whitespace=True, skiprows=1, header=None)[[1, 4]]\n"
     ]
    },
    {
     "name": "stdout",
     "output_type": "stream",
     "text": [
      "Current error: 9.090209576508547e-07\n",
      "Current parameters: Parameters([('C_eq', <Parameter 'C_eq', value=np.float64(6.146944173565255e-16), bounds=[1e-24:1e-10]>)])\n"
     ]
    },
    {
     "name": "stderr",
     "output_type": "stream",
     "text": [
      "C:\\Users\\y50046737\\AppData\\Local\\Temp\\ipykernel_23020\\2037271555.py:38: FutureWarning: The 'delim_whitespace' keyword in pd.read_csv is deprecated and will be removed in a future version. Use ``sep='\\s+'`` instead\n",
      "  df = pd.read_csv('netlist.sp.prn', delim_whitespace=True, skiprows=1, header=None)[[1, 4]]\n"
     ]
    },
    {
     "name": "stdout",
     "output_type": "stream",
     "text": [
      "Current error: 9.090237376570325e-07\n",
      "Current parameters: Parameters([('C_eq', <Parameter 'C_eq', value=np.float64(6.202696299148096e-16), bounds=[1e-24:1e-10]>)])\n"
     ]
    },
    {
     "name": "stderr",
     "output_type": "stream",
     "text": [
      "C:\\Users\\y50046737\\AppData\\Local\\Temp\\ipykernel_23020\\2037271555.py:38: FutureWarning: The 'delim_whitespace' keyword in pd.read_csv is deprecated and will be removed in a future version. Use ``sep='\\s+'`` instead\n",
      "  df = pd.read_csv('netlist.sp.prn', delim_whitespace=True, skiprows=1, header=None)[[1, 4]]\n"
     ]
    },
    {
     "name": "stdout",
     "output_type": "stream",
     "text": [
      "Current error: 9.063730595666426e-07\n",
      "Current parameters: Parameters([('C_eq', <Parameter 'C_eq', value=np.float64(6.202659187667541e-16), bounds=[1e-24:1e-10]>)])\n"
     ]
    },
    {
     "name": "stderr",
     "output_type": "stream",
     "text": [
      "C:\\Users\\y50046737\\AppData\\Local\\Temp\\ipykernel_23020\\2037271555.py:38: FutureWarning: The 'delim_whitespace' keyword in pd.read_csv is deprecated and will be removed in a future version. Use ``sep='\\s+'`` instead\n",
      "  df = pd.read_csv('netlist.sp.prn', delim_whitespace=True, skiprows=1, header=None)[[1, 4]]\n"
     ]
    },
    {
     "name": "stdout",
     "output_type": "stream",
     "text": [
      "Current error: 9.06373800767042e-07\n",
      "Current parameters: Parameters([('C_eq', <Parameter 'C_eq', value=np.float64(6.223013650282931e-16), bounds=[1e-24:1e-10]>)])\n"
     ]
    },
    {
     "name": "stderr",
     "output_type": "stream",
     "text": [
      "C:\\Users\\y50046737\\AppData\\Local\\Temp\\ipykernel_23020\\2037271555.py:38: FutureWarning: The 'delim_whitespace' keyword in pd.read_csv is deprecated and will be removed in a future version. Use ``sep='\\s+'`` instead\n",
      "  df = pd.read_csv('netlist.sp.prn', delim_whitespace=True, skiprows=1, header=None)[[1, 4]]\n"
     ]
    },
    {
     "name": "stdout",
     "output_type": "stream",
     "text": [
      "Current error: 9.061705974924471e-07\n",
      "Current parameters: Parameters([('C_eq', <Parameter 'C_eq', value=np.float64(6.222976478073176e-16), bounds=[1e-24:1e-10]>)])\n"
     ]
    },
    {
     "name": "stderr",
     "output_type": "stream",
     "text": [
      "C:\\Users\\y50046737\\AppData\\Local\\Temp\\ipykernel_23020\\2037271555.py:38: FutureWarning: The 'delim_whitespace' keyword in pd.read_csv is deprecated and will be removed in a future version. Use ``sep='\\s+'`` instead\n",
      "  df = pd.read_csv('netlist.sp.prn', delim_whitespace=True, skiprows=1, header=None)[[1, 4]]\n"
     ]
    },
    {
     "name": "stdout",
     "output_type": "stream",
     "text": [
      "Current error: 9.061705979256736e-07\n",
      "Current parameters: Parameters([('C_eq', <Parameter 'C_eq', value=np.float64(6.223025542270326e-16), bounds=[1e-24:1e-10]>)])\n"
     ]
    },
    {
     "name": "stderr",
     "output_type": "stream",
     "text": [
      "C:\\Users\\y50046737\\AppData\\Local\\Temp\\ipykernel_23020\\2037271555.py:38: FutureWarning: The 'delim_whitespace' keyword in pd.read_csv is deprecated and will be removed in a future version. Use ``sep='\\s+'`` instead\n",
      "  df = pd.read_csv('netlist.sp.prn', delim_whitespace=True, skiprows=1, header=None)[[1, 4]]\n"
     ]
    },
    {
     "name": "stdout",
     "output_type": "stream",
     "text": [
      "Current error: 9.061705976541815e-07\n",
      "Current parameters: Parameters([('C_eq', <Parameter 'C_eq', value=np.float64(6.22298837000506e-16), bounds=[1e-24:1e-10]>)])\n"
     ]
    },
    {
     "name": "stderr",
     "output_type": "stream",
     "text": [
      "C:\\Users\\y50046737\\AppData\\Local\\Temp\\ipykernel_23020\\2037271555.py:38: FutureWarning: The 'delim_whitespace' keyword in pd.read_csv is deprecated and will be removed in a future version. Use ``sep='\\s+'`` instead\n",
      "  df = pd.read_csv('netlist.sp.prn', delim_whitespace=True, skiprows=1, header=None)[[1, 4]]\n"
     ]
    },
    {
     "name": "stdout",
     "output_type": "stream",
     "text": [
      "Current error: 9.061705976356964e-07\n",
      "Current parameters: Parameters([('C_eq', <Parameter 'C_eq', value=np.float64(6.22301484893522e-16), bounds=[1e-24:1e-10]>)])\n"
     ]
    },
    {
     "name": "stderr",
     "output_type": "stream",
     "text": [
      "C:\\Users\\y50046737\\AppData\\Local\\Temp\\ipykernel_23020\\2037271555.py:38: FutureWarning: The 'delim_whitespace' keyword in pd.read_csv is deprecated and will be removed in a future version. Use ``sep='\\s+'`` instead\n",
      "  df = pd.read_csv('netlist.sp.prn', delim_whitespace=True, skiprows=1, header=None)[[1, 4]]\n"
     ]
    },
    {
     "name": "stdout",
     "output_type": "stream",
     "text": [
      "Current error: 9.061705975009868e-07\n",
      "Current parameters: Parameters([('C_eq', <Parameter 'C_eq', value=np.float64(6.222977676725465e-16), bounds=[1e-24:1e-10]>)])\n"
     ]
    },
    {
     "name": "stderr",
     "output_type": "stream",
     "text": [
      "C:\\Users\\y50046737\\AppData\\Local\\Temp\\ipykernel_23020\\2037271555.py:38: FutureWarning: The 'delim_whitespace' keyword in pd.read_csv is deprecated and will be removed in a future version. Use ``sep='\\s+'`` instead\n",
      "  df = pd.read_csv('netlist.sp.prn', delim_whitespace=True, skiprows=1, header=None)[[1, 4]]\n"
     ]
    },
    {
     "name": "stdout",
     "output_type": "stream",
     "text": [
      "Current error: 9.061705978822298e-07\n",
      "Current parameters: Parameters([('C_eq', <Parameter 'C_eq', value=np.float64(6.223013794556413e-16), bounds=[1e-24:1e-10]>)])\n"
     ]
    },
    {
     "name": "stderr",
     "output_type": "stream",
     "text": [
      "C:\\Users\\y50046737\\AppData\\Local\\Temp\\ipykernel_23020\\2037271555.py:38: FutureWarning: The 'delim_whitespace' keyword in pd.read_csv is deprecated and will be removed in a future version. Use ``sep='\\s+'`` instead\n",
      "  df = pd.read_csv('netlist.sp.prn', delim_whitespace=True, skiprows=1, header=None)[[1, 4]]\n"
     ]
    },
    {
     "name": "stdout",
     "output_type": "stream",
     "text": [
      "Current error: 9.061705974989078e-07\n",
      "Current parameters: Parameters([('C_eq', <Parameter 'C_eq', value=np.float64(6.222976622346658e-16), bounds=[1e-24:1e-10]>)])\n"
     ]
    },
    {
     "name": "stderr",
     "output_type": "stream",
     "text": [
      "C:\\Users\\y50046737\\AppData\\Local\\Temp\\ipykernel_23020\\2037271555.py:38: FutureWarning: The 'delim_whitespace' keyword in pd.read_csv is deprecated and will be removed in a future version. Use ``sep='\\s+'`` instead\n",
      "  df = pd.read_csv('netlist.sp.prn', delim_whitespace=True, skiprows=1, header=None)[[1, 4]]\n"
     ]
    },
    {
     "name": "stdout",
     "output_type": "stream",
     "text": [
      "Current error: 9.061705979190027e-07\n",
      "Current parameters: Parameters([('C_eq', <Parameter 'C_eq', value=np.float64(6.223013655445469e-16), bounds=[1e-24:1e-10]>)])\n"
     ]
    },
    {
     "name": "stderr",
     "output_type": "stream",
     "text": [
      "C:\\Users\\y50046737\\AppData\\Local\\Temp\\ipykernel_23020\\2037271555.py:38: FutureWarning: The 'delim_whitespace' keyword in pd.read_csv is deprecated and will be removed in a future version. Use ``sep='\\s+'`` instead\n",
      "  df = pd.read_csv('netlist.sp.prn', delim_whitespace=True, skiprows=1, header=None)[[1, 4]]\n"
     ]
    },
    {
     "name": "stdout",
     "output_type": "stream",
     "text": [
      "Current error: 9.061705975039739e-07\n",
      "Current parameters: Parameters([('C_eq', <Parameter 'C_eq', value=np.float64(6.222976483235714e-16), bounds=[1e-24:1e-10]>)])\n"
     ]
    },
    {
     "name": "stderr",
     "output_type": "stream",
     "text": [
      "C:\\Users\\y50046737\\AppData\\Local\\Temp\\ipykernel_23020\\2037271555.py:38: FutureWarning: The 'delim_whitespace' keyword in pd.read_csv is deprecated and will be removed in a future version. Use ``sep='\\s+'`` instead\n",
      "  df = pd.read_csv('netlist.sp.prn', delim_whitespace=True, skiprows=1, header=None)[[1, 4]]\n"
     ]
    },
    {
     "name": "stdout",
     "output_type": "stream",
     "text": [
      "Current error: 9.061705979124338e-07\n",
      "Current parameters: Parameters([('C_eq', <Parameter 'C_eq', value=np.float64(6.223013650282931e-16), bounds=[1e-24:1e-10]>)])\n"
     ]
    },
    {
     "name": "stderr",
     "output_type": "stream",
     "text": [
      "C:\\Users\\y50046737\\AppData\\Local\\Temp\\ipykernel_23020\\2037271555.py:38: FutureWarning: The 'delim_whitespace' keyword in pd.read_csv is deprecated and will be removed in a future version. Use ``sep='\\s+'`` instead\n",
      "  df = pd.read_csv('netlist.sp.prn', delim_whitespace=True, skiprows=1, header=None)[[1, 4]]\n"
     ]
    },
    {
     "name": "stdout",
     "output_type": "stream",
     "text": [
      "Current error: 9.061705974924471e-07\n",
      "Current parameters: Parameters([('C_eq', <Parameter 'C_eq', value=np.float64(6.222976478073176e-16), bounds=[1e-24:1e-10]>)])\n"
     ]
    },
    {
     "name": "stderr",
     "output_type": "stream",
     "text": [
      "C:\\Users\\y50046737\\AppData\\Local\\Temp\\ipykernel_23020\\2037271555.py:38: FutureWarning: The 'delim_whitespace' keyword in pd.read_csv is deprecated and will be removed in a future version. Use ``sep='\\s+'`` instead\n",
      "  df = pd.read_csv('netlist.sp.prn', delim_whitespace=True, skiprows=1, header=None)[[1, 4]]\n"
     ]
    },
    {
     "name": "stdout",
     "output_type": "stream",
     "text": [
      "Current error: 9.061705979256736e-07\n",
      "Current parameters: Parameters([('C_eq', <Parameter 'C_eq', value=np.float64(6.223013650282931e-16), bounds=[1e-24:1e-10]>)])\n"
     ]
    },
    {
     "name": "stderr",
     "output_type": "stream",
     "text": [
      "C:\\Users\\y50046737\\AppData\\Local\\Temp\\ipykernel_23020\\2037271555.py:38: FutureWarning: The 'delim_whitespace' keyword in pd.read_csv is deprecated and will be removed in a future version. Use ``sep='\\s+'`` instead\n",
      "  df = pd.read_csv('netlist.sp.prn', delim_whitespace=True, skiprows=1, header=None)[[1, 4]]\n"
     ]
    },
    {
     "name": "stdout",
     "output_type": "stream",
     "text": [
      "Current error: 9.061705974924471e-07\n",
      "Current parameters: Parameters([('C_eq', <Parameter 'C_eq', value=np.float64(6.222976478073176e-16), bounds=[1e-24:1e-10]>)])\n"
     ]
    },
    {
     "name": "stderr",
     "output_type": "stream",
     "text": [
      "C:\\Users\\y50046737\\AppData\\Local\\Temp\\ipykernel_23020\\2037271555.py:38: FutureWarning: The 'delim_whitespace' keyword in pd.read_csv is deprecated and will be removed in a future version. Use ``sep='\\s+'`` instead\n",
      "  df = pd.read_csv('netlist.sp.prn', delim_whitespace=True, skiprows=1, header=None)[[1, 4]]\n"
     ]
    },
    {
     "name": "stdout",
     "output_type": "stream",
     "text": [
      "Current error: 9.061705979256736e-07\n",
      "Current parameters: Parameters([('C_eq', <Parameter 'C_eq', value=np.float64(6.223013652836444e-16), bounds=[1e-24:1e-10]>)])\n"
     ]
    },
    {
     "name": "stderr",
     "output_type": "stream",
     "text": [
      "C:\\Users\\y50046737\\AppData\\Local\\Temp\\ipykernel_23020\\2037271555.py:38: FutureWarning: The 'delim_whitespace' keyword in pd.read_csv is deprecated and will be removed in a future version. Use ``sep='\\s+'`` instead\n",
      "  df = pd.read_csv('netlist.sp.prn', delim_whitespace=True, skiprows=1, header=None)[[1, 4]]\n"
     ]
    },
    {
     "name": "stdout",
     "output_type": "stream",
     "text": [
      "Current error: 9.061705975030565e-07\n",
      "Current parameters: Parameters([('C_eq', <Parameter 'C_eq', value=np.float64(6.222976480626689e-16), bounds=[1e-24:1e-10]>)])\n"
     ]
    },
    {
     "name": "stderr",
     "output_type": "stream",
     "text": [
      "C:\\Users\\y50046737\\AppData\\Local\\Temp\\ipykernel_23020\\2037271555.py:38: FutureWarning: The 'delim_whitespace' keyword in pd.read_csv is deprecated and will be removed in a future version. Use ``sep='\\s+'`` instead\n",
      "  df = pd.read_csv('netlist.sp.prn', delim_whitespace=True, skiprows=1, header=None)[[1, 4]]\n"
     ]
    },
    {
     "name": "stdout",
     "output_type": "stream",
     "text": [
      "Current error: 9.061705979186664e-07\n",
      "Current parameters: Parameters([('C_eq', <Parameter 'C_eq', value=np.float64(6.223013650282931e-16), bounds=[1e-24:1e-10]>)])\n"
     ]
    },
    {
     "name": "stderr",
     "output_type": "stream",
     "text": [
      "C:\\Users\\y50046737\\AppData\\Local\\Temp\\ipykernel_23020\\2037271555.py:38: FutureWarning: The 'delim_whitespace' keyword in pd.read_csv is deprecated and will be removed in a future version. Use ``sep='\\s+'`` instead\n",
      "  df = pd.read_csv('netlist.sp.prn', delim_whitespace=True, skiprows=1, header=None)[[1, 4]]\n"
     ]
    },
    {
     "name": "stdout",
     "output_type": "stream",
     "text": [
      "Current error: 9.061705974924471e-07\n",
      "Current parameters: Parameters([('C_eq', <Parameter 'C_eq', value=np.float64(6.222976478073176e-16), bounds=[1e-24:1e-10]>)])\n"
     ]
    },
    {
     "name": "stderr",
     "output_type": "stream",
     "text": [
      "C:\\Users\\y50046737\\AppData\\Local\\Temp\\ipykernel_23020\\2037271555.py:38: FutureWarning: The 'delim_whitespace' keyword in pd.read_csv is deprecated and will be removed in a future version. Use ``sep='\\s+'`` instead\n",
      "  df = pd.read_csv('netlist.sp.prn', delim_whitespace=True, skiprows=1, header=None)[[1, 4]]\n"
     ]
    },
    {
     "name": "stdout",
     "output_type": "stream",
     "text": [
      "Current error: 9.061705979256736e-07\n",
      "Current parameters: Parameters([('C_eq', <Parameter 'C_eq', value=np.float64(6.223013650282931e-16), bounds=[1e-24:1e-10]>)])\n"
     ]
    },
    {
     "name": "stderr",
     "output_type": "stream",
     "text": [
      "C:\\Users\\y50046737\\AppData\\Local\\Temp\\ipykernel_23020\\2037271555.py:38: FutureWarning: The 'delim_whitespace' keyword in pd.read_csv is deprecated and will be removed in a future version. Use ``sep='\\s+'`` instead\n",
      "  df = pd.read_csv('netlist.sp.prn', delim_whitespace=True, skiprows=1, header=None)[[1, 4]]\n"
     ]
    },
    {
     "name": "stdout",
     "output_type": "stream",
     "text": [
      "Current error: 9.061705974924471e-07\n",
      "Current parameters: Parameters([('C_eq', <Parameter 'C_eq', value=np.float64(6.222976478073176e-16), bounds=[1e-24:1e-10]>)])\n"
     ]
    },
    {
     "name": "stderr",
     "output_type": "stream",
     "text": [
      "C:\\Users\\y50046737\\AppData\\Local\\Temp\\ipykernel_23020\\2037271555.py:38: FutureWarning: The 'delim_whitespace' keyword in pd.read_csv is deprecated and will be removed in a future version. Use ``sep='\\s+'`` instead\n",
      "  df = pd.read_csv('netlist.sp.prn', delim_whitespace=True, skiprows=1, header=None)[[1, 4]]\n"
     ]
    },
    {
     "name": "stdout",
     "output_type": "stream",
     "text": [
      "Current error: 9.061705979256736e-07\n",
      "Current parameters: Parameters([('C_eq', <Parameter 'C_eq', value=np.float64(6.223013651559688e-16), bounds=[1e-24:1e-10]>)])\n"
     ]
    },
    {
     "name": "stderr",
     "output_type": "stream",
     "text": [
      "C:\\Users\\y50046737\\AppData\\Local\\Temp\\ipykernel_23020\\2037271555.py:38: FutureWarning: The 'delim_whitespace' keyword in pd.read_csv is deprecated and will be removed in a future version. Use ``sep='\\s+'`` instead\n",
      "  df = pd.read_csv('netlist.sp.prn', delim_whitespace=True, skiprows=1, header=None)[[1, 4]]\n"
     ]
    },
    {
     "name": "stdout",
     "output_type": "stream",
     "text": [
      "Current error: 9.061705974999743e-07\n",
      "Current parameters: Parameters([('C_eq', <Parameter 'C_eq', value=np.float64(6.222976479349933e-16), bounds=[1e-24:1e-10]>)])\n"
     ]
    },
    {
     "name": "stderr",
     "output_type": "stream",
     "text": [
      "C:\\Users\\y50046737\\AppData\\Local\\Temp\\ipykernel_23020\\2037271555.py:38: FutureWarning: The 'delim_whitespace' keyword in pd.read_csv is deprecated and will be removed in a future version. Use ``sep='\\s+'`` instead\n",
      "  df = pd.read_csv('netlist.sp.prn', delim_whitespace=True, skiprows=1, header=None)[[1, 4]]\n"
     ]
    },
    {
     "name": "stdout",
     "output_type": "stream",
     "text": [
      "Current error: 9.061705979135828e-07\n",
      "Current parameters: Parameters([('C_eq', <Parameter 'C_eq', value=np.float64(6.223013650282931e-16), bounds=[1e-24:1e-10]>)])\n"
     ]
    },
    {
     "name": "stderr",
     "output_type": "stream",
     "text": [
      "C:\\Users\\y50046737\\AppData\\Local\\Temp\\ipykernel_23020\\2037271555.py:38: FutureWarning: The 'delim_whitespace' keyword in pd.read_csv is deprecated and will be removed in a future version. Use ``sep='\\s+'`` instead\n",
      "  df = pd.read_csv('netlist.sp.prn', delim_whitespace=True, skiprows=1, header=None)[[1, 4]]\n"
     ]
    },
    {
     "name": "stdout",
     "output_type": "stream",
     "text": [
      "Current error: 9.061705974924471e-07\n",
      "Current parameters: Parameters([('C_eq', <Parameter 'C_eq', value=np.float64(6.222976478073176e-16), bounds=[1e-24:1e-10]>)])\n"
     ]
    },
    {
     "name": "stderr",
     "output_type": "stream",
     "text": [
      "C:\\Users\\y50046737\\AppData\\Local\\Temp\\ipykernel_23020\\2037271555.py:38: FutureWarning: The 'delim_whitespace' keyword in pd.read_csv is deprecated and will be removed in a future version. Use ``sep='\\s+'`` instead\n",
      "  df = pd.read_csv('netlist.sp.prn', delim_whitespace=True, skiprows=1, header=None)[[1, 4]]\n"
     ]
    },
    {
     "name": "stdout",
     "output_type": "stream",
     "text": [
      "Current error: 9.061705979256736e-07\n",
      "Current parameters: Parameters([('C_eq', <Parameter 'C_eq', value=np.float64(6.223013650282931e-16), bounds=[1e-24:1e-10]>)])\n"
     ]
    },
    {
     "name": "stderr",
     "output_type": "stream",
     "text": [
      "C:\\Users\\y50046737\\AppData\\Local\\Temp\\ipykernel_23020\\2037271555.py:38: FutureWarning: The 'delim_whitespace' keyword in pd.read_csv is deprecated and will be removed in a future version. Use ``sep='\\s+'`` instead\n",
      "  df = pd.read_csv('netlist.sp.prn', delim_whitespace=True, skiprows=1, header=None)[[1, 4]]\n"
     ]
    },
    {
     "name": "stdout",
     "output_type": "stream",
     "text": [
      "Current error: 9.061705974924471e-07\n",
      "Current parameters: Parameters([('C_eq', <Parameter 'C_eq', value=np.float64(6.222976478073176e-16), bounds=[1e-24:1e-10]>)])\n"
     ]
    },
    {
     "name": "stderr",
     "output_type": "stream",
     "text": [
      "C:\\Users\\y50046737\\AppData\\Local\\Temp\\ipykernel_23020\\2037271555.py:38: FutureWarning: The 'delim_whitespace' keyword in pd.read_csv is deprecated and will be removed in a future version. Use ``sep='\\s+'`` instead\n",
      "  df = pd.read_csv('netlist.sp.prn', delim_whitespace=True, skiprows=1, header=None)[[1, 4]]\n"
     ]
    },
    {
     "name": "stdout",
     "output_type": "stream",
     "text": [
      "Current error: 9.061705979256736e-07\n",
      "Current parameters: Parameters([('C_eq', <Parameter 'C_eq', value=np.float64(6.223013650949065e-16), bounds=[1e-24:1e-10]>)])\n"
     ]
    },
    {
     "name": "stderr",
     "output_type": "stream",
     "text": [
      "C:\\Users\\y50046737\\AppData\\Local\\Temp\\ipykernel_23020\\2037271555.py:38: FutureWarning: The 'delim_whitespace' keyword in pd.read_csv is deprecated and will be removed in a future version. Use ``sep='\\s+'`` instead\n",
      "  df = pd.read_csv('netlist.sp.prn', delim_whitespace=True, skiprows=1, header=None)[[1, 4]]\n"
     ]
    },
    {
     "name": "stdout",
     "output_type": "stream",
     "text": [
      "Current error: 9.061705974991415e-07\n",
      "Current parameters: Parameters([('C_eq', <Parameter 'C_eq', value=np.float64(6.222976478683799e-16), bounds=[1e-24:1e-10]>)])\n"
     ]
    },
    {
     "name": "stderr",
     "output_type": "stream",
     "text": [
      "C:\\Users\\y50046737\\AppData\\Local\\Temp\\ipykernel_23020\\2037271555.py:38: FutureWarning: The 'delim_whitespace' keyword in pd.read_csv is deprecated and will be removed in a future version. Use ``sep='\\s+'`` instead\n",
      "  df = pd.read_csv('netlist.sp.prn', delim_whitespace=True, skiprows=1, header=None)[[1, 4]]\n"
     ]
    },
    {
     "name": "stdout",
     "output_type": "stream",
     "text": [
      "Current error: 9.061705979098121e-07\n",
      "Current parameters: Parameters([('C_eq', <Parameter 'C_eq', value=np.float64(6.223013650282931e-16), bounds=[1e-24:1e-10]>)])\n"
     ]
    },
    {
     "name": "stderr",
     "output_type": "stream",
     "text": [
      "C:\\Users\\y50046737\\AppData\\Local\\Temp\\ipykernel_23020\\2037271555.py:38: FutureWarning: The 'delim_whitespace' keyword in pd.read_csv is deprecated and will be removed in a future version. Use ``sep='\\s+'`` instead\n",
      "  df = pd.read_csv('netlist.sp.prn', delim_whitespace=True, skiprows=1, header=None)[[1, 4]]\n"
     ]
    },
    {
     "name": "stdout",
     "output_type": "stream",
     "text": [
      "Current error: 9.061705974924471e-07\n",
      "Current parameters: Parameters([('C_eq', <Parameter 'C_eq', value=np.float64(6.222976478073176e-16), bounds=[1e-24:1e-10]>)])\n"
     ]
    },
    {
     "name": "stderr",
     "output_type": "stream",
     "text": [
      "C:\\Users\\y50046737\\AppData\\Local\\Temp\\ipykernel_23020\\2037271555.py:38: FutureWarning: The 'delim_whitespace' keyword in pd.read_csv is deprecated and will be removed in a future version. Use ``sep='\\s+'`` instead\n",
      "  df = pd.read_csv('netlist.sp.prn', delim_whitespace=True, skiprows=1, header=None)[[1, 4]]\n"
     ]
    },
    {
     "name": "stdout",
     "output_type": "stream",
     "text": [
      "Current error: 9.061705979256736e-07\n",
      "Current parameters: Parameters([('C_eq', <Parameter 'C_eq', value=np.float64(6.223013650615998e-16), bounds=[1e-24:1e-10]>)])\n"
     ]
    },
    {
     "name": "stderr",
     "output_type": "stream",
     "text": [
      "C:\\Users\\y50046737\\AppData\\Local\\Temp\\ipykernel_23020\\2037271555.py:38: FutureWarning: The 'delim_whitespace' keyword in pd.read_csv is deprecated and will be removed in a future version. Use ``sep='\\s+'`` instead\n",
      "  df = pd.read_csv('netlist.sp.prn', delim_whitespace=True, skiprows=1, header=None)[[1, 4]]\n"
     ]
    },
    {
     "name": "stdout",
     "output_type": "stream",
     "text": [
      "Current error: 9.061705974931384e-07\n",
      "Current parameters: Parameters([('C_eq', <Parameter 'C_eq', value=np.float64(6.222976478406243e-16), bounds=[1e-24:1e-10]>)])\n"
     ]
    },
    {
     "name": "stderr",
     "output_type": "stream",
     "text": [
      "C:\\Users\\y50046737\\AppData\\Local\\Temp\\ipykernel_23020\\2037271555.py:38: FutureWarning: The 'delim_whitespace' keyword in pd.read_csv is deprecated and will be removed in a future version. Use ``sep='\\s+'`` instead\n",
      "  df = pd.read_csv('netlist.sp.prn', delim_whitespace=True, skiprows=1, header=None)[[1, 4]]\n"
     ]
    },
    {
     "name": "stdout",
     "output_type": "stream",
     "text": [
      "Current error: 9.061705979111335e-07\n",
      "Current parameters: Parameters([('C_eq', <Parameter 'C_eq', value=np.float64(6.223013650282931e-16), bounds=[1e-24:1e-10]>)])\n"
     ]
    },
    {
     "name": "stderr",
     "output_type": "stream",
     "text": [
      "C:\\Users\\y50046737\\AppData\\Local\\Temp\\ipykernel_23020\\2037271555.py:38: FutureWarning: The 'delim_whitespace' keyword in pd.read_csv is deprecated and will be removed in a future version. Use ``sep='\\s+'`` instead\n",
      "  df = pd.read_csv('netlist.sp.prn', delim_whitespace=True, skiprows=1, header=None)[[1, 4]]\n"
     ]
    },
    {
     "name": "stdout",
     "output_type": "stream",
     "text": [
      "Current error: 9.061705974924471e-07\n",
      "Current parameters: Parameters([('C_eq', <Parameter 'C_eq', value=np.float64(6.222976478073176e-16), bounds=[1e-24:1e-10]>)])\n"
     ]
    },
    {
     "name": "stderr",
     "output_type": "stream",
     "text": [
      "C:\\Users\\y50046737\\AppData\\Local\\Temp\\ipykernel_23020\\2037271555.py:38: FutureWarning: The 'delim_whitespace' keyword in pd.read_csv is deprecated and will be removed in a future version. Use ``sep='\\s+'`` instead\n",
      "  df = pd.read_csv('netlist.sp.prn', delim_whitespace=True, skiprows=1, header=None)[[1, 4]]\n"
     ]
    },
    {
     "name": "stdout",
     "output_type": "stream",
     "text": [
      "Current error: 9.061705979256736e-07\n",
      "Current parameters: Parameters([('C_eq', <Parameter 'C_eq', value=np.float64(6.223013650282931e-16), bounds=[1e-24:1e-10]>)])\n"
     ]
    },
    {
     "name": "stderr",
     "output_type": "stream",
     "text": [
      "C:\\Users\\y50046737\\AppData\\Local\\Temp\\ipykernel_23020\\2037271555.py:38: FutureWarning: The 'delim_whitespace' keyword in pd.read_csv is deprecated and will be removed in a future version. Use ``sep='\\s+'`` instead\n",
      "  df = pd.read_csv('netlist.sp.prn', delim_whitespace=True, skiprows=1, header=None)[[1, 4]]\n"
     ]
    },
    {
     "name": "stdout",
     "output_type": "stream",
     "text": [
      "Current error: 9.061705974924471e-07\n",
      "Current parameters: Parameters([('C_eq', <Parameter 'C_eq', value=np.float64(6.222976478073176e-16), bounds=[1e-24:1e-10]>)])\n"
     ]
    },
    {
     "name": "stderr",
     "output_type": "stream",
     "text": [
      "C:\\Users\\y50046737\\AppData\\Local\\Temp\\ipykernel_23020\\2037271555.py:38: FutureWarning: The 'delim_whitespace' keyword in pd.read_csv is deprecated and will be removed in a future version. Use ``sep='\\s+'`` instead\n",
      "  df = pd.read_csv('netlist.sp.prn', delim_whitespace=True, skiprows=1, header=None)[[1, 4]]\n"
     ]
    },
    {
     "name": "stdout",
     "output_type": "stream",
     "text": [
      "Current error: 9.061705979256736e-07\n",
      "Current parameters: Parameters([('C_eq', <Parameter 'C_eq', value=np.float64(6.223013650449465e-16), bounds=[1e-24:1e-10]>)])\n"
     ]
    },
    {
     "name": "stderr",
     "output_type": "stream",
     "text": [
      "C:\\Users\\y50046737\\AppData\\Local\\Temp\\ipykernel_23020\\2037271555.py:38: FutureWarning: The 'delim_whitespace' keyword in pd.read_csv is deprecated and will be removed in a future version. Use ``sep='\\s+'`` instead\n",
      "  df = pd.read_csv('netlist.sp.prn', delim_whitespace=True, skiprows=1, header=None)[[1, 4]]\n"
     ]
    },
    {
     "name": "stdout",
     "output_type": "stream",
     "text": [
      "Current error: 9.06170597499953e-07\n",
      "Current parameters: Parameters([('C_eq', <Parameter 'C_eq', value=np.float64(6.22297647823971e-16), bounds=[1e-24:1e-10]>)])\n"
     ]
    },
    {
     "name": "stderr",
     "output_type": "stream",
     "text": [
      "C:\\Users\\y50046737\\AppData\\Local\\Temp\\ipykernel_23020\\2037271555.py:38: FutureWarning: The 'delim_whitespace' keyword in pd.read_csv is deprecated and will be removed in a future version. Use ``sep='\\s+'`` instead\n",
      "  df = pd.read_csv('netlist.sp.prn', delim_whitespace=True, skiprows=1, header=None)[[1, 4]]\n"
     ]
    },
    {
     "name": "stdout",
     "output_type": "stream",
     "text": [
      "Current error: 9.061705979149642e-07\n",
      "Current parameters: Parameters([('C_eq', <Parameter 'C_eq', value=np.float64(6.223013650282931e-16), bounds=[1e-24:1e-10]>)])\n"
     ]
    },
    {
     "name": "stderr",
     "output_type": "stream",
     "text": [
      "C:\\Users\\y50046737\\AppData\\Local\\Temp\\ipykernel_23020\\2037271555.py:38: FutureWarning: The 'delim_whitespace' keyword in pd.read_csv is deprecated and will be removed in a future version. Use ``sep='\\s+'`` instead\n",
      "  df = pd.read_csv('netlist.sp.prn', delim_whitespace=True, skiprows=1, header=None)[[1, 4]]\n"
     ]
    },
    {
     "name": "stdout",
     "output_type": "stream",
     "text": [
      "Current error: 9.061705974924471e-07\n",
      "Current parameters: Parameters([('C_eq', <Parameter 'C_eq', value=np.float64(6.222976478073176e-16), bounds=[1e-24:1e-10]>)])\n"
     ]
    },
    {
     "name": "stderr",
     "output_type": "stream",
     "text": [
      "C:\\Users\\y50046737\\AppData\\Local\\Temp\\ipykernel_23020\\2037271555.py:38: FutureWarning: The 'delim_whitespace' keyword in pd.read_csv is deprecated and will be removed in a future version. Use ``sep='\\s+'`` instead\n",
      "  df = pd.read_csv('netlist.sp.prn', delim_whitespace=True, skiprows=1, header=None)[[1, 4]]\n"
     ]
    },
    {
     "name": "stdout",
     "output_type": "stream",
     "text": [
      "Current error: 9.061705979256736e-07\n",
      "Current parameters: Parameters([('C_eq', <Parameter 'C_eq', value=np.float64(6.223013650338442e-16), bounds=[1e-24:1e-10]>)])\n"
     ]
    },
    {
     "name": "stderr",
     "output_type": "stream",
     "text": [
      "C:\\Users\\y50046737\\AppData\\Local\\Temp\\ipykernel_23020\\2037271555.py:38: FutureWarning: The 'delim_whitespace' keyword in pd.read_csv is deprecated and will be removed in a future version. Use ``sep='\\s+'`` instead\n",
      "  df = pd.read_csv('netlist.sp.prn', delim_whitespace=True, skiprows=1, header=None)[[1, 4]]\n"
     ]
    },
    {
     "name": "stdout",
     "output_type": "stream",
     "text": [
      "Current error: 9.061705975058301e-07\n",
      "Current parameters: Parameters([('C_eq', <Parameter 'C_eq', value=np.float64(6.222976478128687e-16), bounds=[1e-24:1e-10]>)])\n"
     ]
    },
    {
     "name": "stderr",
     "output_type": "stream",
     "text": [
      "C:\\Users\\y50046737\\AppData\\Local\\Temp\\ipykernel_23020\\2037271555.py:38: FutureWarning: The 'delim_whitespace' keyword in pd.read_csv is deprecated and will be removed in a future version. Use ``sep='\\s+'`` instead\n",
      "  df = pd.read_csv('netlist.sp.prn', delim_whitespace=True, skiprows=1, header=None)[[1, 4]]\n"
     ]
    },
    {
     "name": "stdout",
     "output_type": "stream",
     "text": [
      "Current error: 9.06170597920977e-07\n",
      "Current parameters: Parameters([('C_eq', <Parameter 'C_eq', value=np.float64(6.223013650282931e-16), bounds=[1e-24:1e-10]>)])\n"
     ]
    },
    {
     "name": "stderr",
     "output_type": "stream",
     "text": [
      "C:\\Users\\y50046737\\AppData\\Local\\Temp\\ipykernel_23020\\2037271555.py:38: FutureWarning: The 'delim_whitespace' keyword in pd.read_csv is deprecated and will be removed in a future version. Use ``sep='\\s+'`` instead\n",
      "  df = pd.read_csv('netlist.sp.prn', delim_whitespace=True, skiprows=1, header=None)[[1, 4]]\n"
     ]
    },
    {
     "name": "stdout",
     "output_type": "stream",
     "text": [
      "Current error: 9.061705974924471e-07\n",
      "Current parameters: Parameters([('C_eq', <Parameter 'C_eq', value=np.float64(6.222976478073176e-16), bounds=[1e-24:1e-10]>)])\n"
     ]
    },
    {
     "name": "stderr",
     "output_type": "stream",
     "text": [
      "C:\\Users\\y50046737\\AppData\\Local\\Temp\\ipykernel_23020\\2037271555.py:38: FutureWarning: The 'delim_whitespace' keyword in pd.read_csv is deprecated and will be removed in a future version. Use ``sep='\\s+'`` instead\n",
      "  df = pd.read_csv('netlist.sp.prn', delim_whitespace=True, skiprows=1, header=None)[[1, 4]]\n"
     ]
    },
    {
     "name": "stdout",
     "output_type": "stream",
     "text": [
      "Current error: 9.061705979256736e-07\n",
      "Current parameters: Parameters([('C_eq', <Parameter 'C_eq', value=np.float64(6.223013650338442e-16), bounds=[1e-24:1e-10]>)])\n"
     ]
    },
    {
     "name": "stderr",
     "output_type": "stream",
     "text": [
      "C:\\Users\\y50046737\\AppData\\Local\\Temp\\ipykernel_23020\\2037271555.py:38: FutureWarning: The 'delim_whitespace' keyword in pd.read_csv is deprecated and will be removed in a future version. Use ``sep='\\s+'`` instead\n",
      "  df = pd.read_csv('netlist.sp.prn', delim_whitespace=True, skiprows=1, header=None)[[1, 4]]\n"
     ]
    },
    {
     "name": "stdout",
     "output_type": "stream",
     "text": [
      "Current error: 9.061705975058301e-07\n",
      "Current parameters: Parameters([('C_eq', <Parameter 'C_eq', value=np.float64(6.222976478128687e-16), bounds=[1e-24:1e-10]>)])\n"
     ]
    },
    {
     "name": "stderr",
     "output_type": "stream",
     "text": [
      "C:\\Users\\y50046737\\AppData\\Local\\Temp\\ipykernel_23020\\2037271555.py:38: FutureWarning: The 'delim_whitespace' keyword in pd.read_csv is deprecated and will be removed in a future version. Use ``sep='\\s+'`` instead\n",
      "  df = pd.read_csv('netlist.sp.prn', delim_whitespace=True, skiprows=1, header=None)[[1, 4]]\n"
     ]
    },
    {
     "name": "stdout",
     "output_type": "stream",
     "text": [
      "Current error: 9.06170597920977e-07\n",
      "Current parameters: Parameters([('C_eq', <Parameter 'C_eq', value=np.float64(6.223013650282931e-16), bounds=[1e-24:1e-10]>)])\n"
     ]
    },
    {
     "name": "stderr",
     "output_type": "stream",
     "text": [
      "C:\\Users\\y50046737\\AppData\\Local\\Temp\\ipykernel_23020\\2037271555.py:38: FutureWarning: The 'delim_whitespace' keyword in pd.read_csv is deprecated and will be removed in a future version. Use ``sep='\\s+'`` instead\n",
      "  df = pd.read_csv('netlist.sp.prn', delim_whitespace=True, skiprows=1, header=None)[[1, 4]]\n"
     ]
    },
    {
     "name": "stdout",
     "output_type": "stream",
     "text": [
      "Current error: 9.061705974924471e-07\n",
      "Current parameters: Parameters([('C_eq', <Parameter 'C_eq', value=np.float64(6.222976478073176e-16), bounds=[1e-24:1e-10]>)])\n"
     ]
    },
    {
     "name": "stderr",
     "output_type": "stream",
     "text": [
      "C:\\Users\\y50046737\\AppData\\Local\\Temp\\ipykernel_23020\\2037271555.py:38: FutureWarning: The 'delim_whitespace' keyword in pd.read_csv is deprecated and will be removed in a future version. Use ``sep='\\s+'`` instead\n",
      "  df = pd.read_csv('netlist.sp.prn', delim_whitespace=True, skiprows=1, header=None)[[1, 4]]\n"
     ]
    },
    {
     "name": "stdout",
     "output_type": "stream",
     "text": [
      "Current error: 9.061705979256736e-07\n",
      "Current parameters: Parameters([('C_eq', <Parameter 'C_eq', value=np.float64(6.223013650282931e-16), bounds=[1e-24:1e-10]>)])\n"
     ]
    },
    {
     "name": "stderr",
     "output_type": "stream",
     "text": [
      "C:\\Users\\y50046737\\AppData\\Local\\Temp\\ipykernel_23020\\2037271555.py:38: FutureWarning: The 'delim_whitespace' keyword in pd.read_csv is deprecated and will be removed in a future version. Use ``sep='\\s+'`` instead\n",
      "  df = pd.read_csv('netlist.sp.prn', delim_whitespace=True, skiprows=1, header=None)[[1, 4]]\n"
     ]
    },
    {
     "name": "stdout",
     "output_type": "stream",
     "text": [
      "Current error: 9.061705974924471e-07\n",
      "Current parameters: Parameters([('C_eq', <Parameter 'C_eq', value=np.float64(6.222976478073176e-16), bounds=[1e-24:1e-10]>)])\n"
     ]
    },
    {
     "name": "stderr",
     "output_type": "stream",
     "text": [
      "C:\\Users\\y50046737\\AppData\\Local\\Temp\\ipykernel_23020\\2037271555.py:38: FutureWarning: The 'delim_whitespace' keyword in pd.read_csv is deprecated and will be removed in a future version. Use ``sep='\\s+'`` instead\n",
      "  df = pd.read_csv('netlist.sp.prn', delim_whitespace=True, skiprows=1, header=None)[[1, 4]]\n"
     ]
    },
    {
     "name": "stdout",
     "output_type": "stream",
     "text": [
      "Current error: 9.061705979256736e-07\n",
      "Current parameters: Parameters([('C_eq', <Parameter 'C_eq', value=np.float64(6.223013650338442e-16), bounds=[1e-24:1e-10]>)])\n"
     ]
    },
    {
     "name": "stderr",
     "output_type": "stream",
     "text": [
      "C:\\Users\\y50046737\\AppData\\Local\\Temp\\ipykernel_23020\\2037271555.py:38: FutureWarning: The 'delim_whitespace' keyword in pd.read_csv is deprecated and will be removed in a future version. Use ``sep='\\s+'`` instead\n",
      "  df = pd.read_csv('netlist.sp.prn', delim_whitespace=True, skiprows=1, header=None)[[1, 4]]\n"
     ]
    },
    {
     "name": "stdout",
     "output_type": "stream",
     "text": [
      "Current error: 9.061705975058301e-07\n",
      "Current parameters: Parameters([('C_eq', <Parameter 'C_eq', value=np.float64(6.222976478073176e-16), bounds=[1e-24:1e-10]>)])\n"
     ]
    },
    {
     "name": "stderr",
     "output_type": "stream",
     "text": [
      "C:\\Users\\y50046737\\AppData\\Local\\Temp\\ipykernel_23020\\2037271555.py:38: FutureWarning: The 'delim_whitespace' keyword in pd.read_csv is deprecated and will be removed in a future version. Use ``sep='\\s+'`` instead\n",
      "  df = pd.read_csv('netlist.sp.prn', delim_whitespace=True, skiprows=1, header=None)[[1, 4]]\n"
     ]
    },
    {
     "name": "stdout",
     "output_type": "stream",
     "text": [
      "Current error: 9.061705979256736e-07\n",
      "Current parameters: Parameters([('C_eq', <Parameter 'C_eq', value=np.float64(6.223013650282931e-16), bounds=[1e-24:1e-10]>)])\n"
     ]
    },
    {
     "name": "stderr",
     "output_type": "stream",
     "text": [
      "C:\\Users\\y50046737\\AppData\\Local\\Temp\\ipykernel_23020\\2037271555.py:38: FutureWarning: The 'delim_whitespace' keyword in pd.read_csv is deprecated and will be removed in a future version. Use ``sep='\\s+'`` instead\n",
      "  df = pd.read_csv('netlist.sp.prn', delim_whitespace=True, skiprows=1, header=None)[[1, 4]]\n"
     ]
    },
    {
     "name": "stdout",
     "output_type": "stream",
     "text": [
      "Current error: 9.061705974924471e-07\n",
      "Current parameters: Parameters([('C_eq', <Parameter 'C_eq', value=np.float64(6.222976478073176e-16), bounds=[1e-24:1e-10]>)])\n"
     ]
    },
    {
     "name": "stderr",
     "output_type": "stream",
     "text": [
      "C:\\Users\\y50046737\\AppData\\Local\\Temp\\ipykernel_23020\\2037271555.py:38: FutureWarning: The 'delim_whitespace' keyword in pd.read_csv is deprecated and will be removed in a future version. Use ``sep='\\s+'`` instead\n",
      "  df = pd.read_csv('netlist.sp.prn', delim_whitespace=True, skiprows=1, header=None)[[1, 4]]\n"
     ]
    },
    {
     "name": "stdout",
     "output_type": "stream",
     "text": [
      "Current error: 9.061705979256736e-07\n",
      "Current parameters: Parameters([('C_eq', <Parameter 'C_eq', value=np.float64(6.223013650282931e-16), bounds=[1e-24:1e-10]>)])\n"
     ]
    },
    {
     "name": "stderr",
     "output_type": "stream",
     "text": [
      "C:\\Users\\y50046737\\AppData\\Local\\Temp\\ipykernel_23020\\2037271555.py:38: FutureWarning: The 'delim_whitespace' keyword in pd.read_csv is deprecated and will be removed in a future version. Use ``sep='\\s+'`` instead\n",
      "  df = pd.read_csv('netlist.sp.prn', delim_whitespace=True, skiprows=1, header=None)[[1, 4]]\n"
     ]
    },
    {
     "name": "stdout",
     "output_type": "stream",
     "text": [
      "Current error: 9.061705974924471e-07\n",
      "Current parameters: Parameters([('C_eq', <Parameter 'C_eq', value=np.float64(6.222976478073176e-16), bounds=[1e-24:1e-10]>)])\n"
     ]
    },
    {
     "name": "stderr",
     "output_type": "stream",
     "text": [
      "C:\\Users\\y50046737\\AppData\\Local\\Temp\\ipykernel_23020\\2037271555.py:38: FutureWarning: The 'delim_whitespace' keyword in pd.read_csv is deprecated and will be removed in a future version. Use ``sep='\\s+'`` instead\n",
      "  df = pd.read_csv('netlist.sp.prn', delim_whitespace=True, skiprows=1, header=None)[[1, 4]]\n"
     ]
    },
    {
     "name": "stdout",
     "output_type": "stream",
     "text": [
      "Current error: 9.061705979256736e-07\n",
      "Current parameters: Parameters([('C_eq', <Parameter 'C_eq', value=np.float64(6.223013650338442e-16), bounds=[1e-24:1e-10]>)])\n"
     ]
    },
    {
     "name": "stderr",
     "output_type": "stream",
     "text": [
      "C:\\Users\\y50046737\\AppData\\Local\\Temp\\ipykernel_23020\\2037271555.py:38: FutureWarning: The 'delim_whitespace' keyword in pd.read_csv is deprecated and will be removed in a future version. Use ``sep='\\s+'`` instead\n",
      "  df = pd.read_csv('netlist.sp.prn', delim_whitespace=True, skiprows=1, header=None)[[1, 4]]\n"
     ]
    },
    {
     "name": "stdout",
     "output_type": "stream",
     "text": [
      "Current error: 9.061705975058301e-07\n",
      "Current parameters: Parameters([('C_eq', <Parameter 'C_eq', value=np.float64(6.222976478073176e-16), bounds=[1e-24:1e-10]>)])\n"
     ]
    },
    {
     "name": "stderr",
     "output_type": "stream",
     "text": [
      "C:\\Users\\y50046737\\AppData\\Local\\Temp\\ipykernel_23020\\2037271555.py:38: FutureWarning: The 'delim_whitespace' keyword in pd.read_csv is deprecated and will be removed in a future version. Use ``sep='\\s+'`` instead\n",
      "  df = pd.read_csv('netlist.sp.prn', delim_whitespace=True, skiprows=1, header=None)[[1, 4]]\n"
     ]
    },
    {
     "name": "stdout",
     "output_type": "stream",
     "text": [
      "Current error: 9.061705979256736e-07\n",
      "Current parameters: Parameters([('C_eq', <Parameter 'C_eq', value=np.float64(6.223013650282931e-16), bounds=[1e-24:1e-10]>)])\n"
     ]
    },
    {
     "name": "stderr",
     "output_type": "stream",
     "text": [
      "C:\\Users\\y50046737\\AppData\\Local\\Temp\\ipykernel_23020\\2037271555.py:38: FutureWarning: The 'delim_whitespace' keyword in pd.read_csv is deprecated and will be removed in a future version. Use ``sep='\\s+'`` instead\n",
      "  df = pd.read_csv('netlist.sp.prn', delim_whitespace=True, skiprows=1, header=None)[[1, 4]]\n"
     ]
    },
    {
     "name": "stdout",
     "output_type": "stream",
     "text": [
      "Current error: 9.061705974924471e-07\n",
      "Current parameters: Parameters([('C_eq', <Parameter 'C_eq', value=np.float64(6.222976478073176e-16), bounds=[1e-24:1e-10]>)])\n"
     ]
    },
    {
     "name": "stderr",
     "output_type": "stream",
     "text": [
      "C:\\Users\\y50046737\\AppData\\Local\\Temp\\ipykernel_23020\\2037271555.py:38: FutureWarning: The 'delim_whitespace' keyword in pd.read_csv is deprecated and will be removed in a future version. Use ``sep='\\s+'`` instead\n",
      "  df = pd.read_csv('netlist.sp.prn', delim_whitespace=True, skiprows=1, header=None)[[1, 4]]\n"
     ]
    },
    {
     "name": "stdout",
     "output_type": "stream",
     "text": [
      "Current error: 9.061705979256736e-07\n",
      "Current parameters: Parameters([('C_eq', <Parameter 'C_eq', value=np.float64(6.223013650338442e-16), bounds=[1e-24:1e-10]>)])\n"
     ]
    },
    {
     "name": "stderr",
     "output_type": "stream",
     "text": [
      "C:\\Users\\y50046737\\AppData\\Local\\Temp\\ipykernel_23020\\2037271555.py:38: FutureWarning: The 'delim_whitespace' keyword in pd.read_csv is deprecated and will be removed in a future version. Use ``sep='\\s+'`` instead\n",
      "  df = pd.read_csv('netlist.sp.prn', delim_whitespace=True, skiprows=1, header=None)[[1, 4]]\n"
     ]
    },
    {
     "name": "stdout",
     "output_type": "stream",
     "text": [
      "Current error: 9.061705975058301e-07\n",
      "Current parameters: Parameters([('C_eq', <Parameter 'C_eq', value=np.float64(6.222976478073176e-16), bounds=[1e-24:1e-10]>)])\n"
     ]
    },
    {
     "name": "stderr",
     "output_type": "stream",
     "text": [
      "C:\\Users\\y50046737\\AppData\\Local\\Temp\\ipykernel_23020\\2037271555.py:38: FutureWarning: The 'delim_whitespace' keyword in pd.read_csv is deprecated and will be removed in a future version. Use ``sep='\\s+'`` instead\n",
      "  df = pd.read_csv('netlist.sp.prn', delim_whitespace=True, skiprows=1, header=None)[[1, 4]]\n"
     ]
    },
    {
     "name": "stdout",
     "output_type": "stream",
     "text": [
      "Current error: 9.061705979256736e-07\n",
      "Current parameters: Parameters([('C_eq', <Parameter 'C_eq', value=np.float64(6.223013650282931e-16), bounds=[1e-24:1e-10]>)])\n"
     ]
    },
    {
     "name": "stderr",
     "output_type": "stream",
     "text": [
      "C:\\Users\\y50046737\\AppData\\Local\\Temp\\ipykernel_23020\\2037271555.py:38: FutureWarning: The 'delim_whitespace' keyword in pd.read_csv is deprecated and will be removed in a future version. Use ``sep='\\s+'`` instead\n",
      "  df = pd.read_csv('netlist.sp.prn', delim_whitespace=True, skiprows=1, header=None)[[1, 4]]\n"
     ]
    },
    {
     "name": "stdout",
     "output_type": "stream",
     "text": [
      "Current error: 9.061705974924471e-07\n",
      "Current parameters: Parameters([('C_eq', <Parameter 'C_eq', value=np.float64(6.222976478073176e-16), bounds=[1e-24:1e-10]>)])\n"
     ]
    },
    {
     "name": "stderr",
     "output_type": "stream",
     "text": [
      "C:\\Users\\y50046737\\AppData\\Local\\Temp\\ipykernel_23020\\2037271555.py:38: FutureWarning: The 'delim_whitespace' keyword in pd.read_csv is deprecated and will be removed in a future version. Use ``sep='\\s+'`` instead\n",
      "  df = pd.read_csv('netlist.sp.prn', delim_whitespace=True, skiprows=1, header=None)[[1, 4]]\n"
     ]
    },
    {
     "name": "stdout",
     "output_type": "stream",
     "text": [
      "Current error: 9.061705979256736e-07\n",
      "Current parameters: Parameters([('C_eq', <Parameter 'C_eq', value=np.float64(6.223013650282931e-16), bounds=[1e-24:1e-10]>)])\n"
     ]
    },
    {
     "name": "stderr",
     "output_type": "stream",
     "text": [
      "C:\\Users\\y50046737\\AppData\\Local\\Temp\\ipykernel_23020\\2037271555.py:38: FutureWarning: The 'delim_whitespace' keyword in pd.read_csv is deprecated and will be removed in a future version. Use ``sep='\\s+'`` instead\n",
      "  df = pd.read_csv('netlist.sp.prn', delim_whitespace=True, skiprows=1, header=None)[[1, 4]]\n"
     ]
    },
    {
     "name": "stdout",
     "output_type": "stream",
     "text": [
      "Current error: 9.061705974924471e-07\n",
      "Current parameters: Parameters([('C_eq', <Parameter 'C_eq', value=np.float64(6.222976478073176e-16), bounds=[1e-24:1e-10]>)])\n"
     ]
    },
    {
     "name": "stderr",
     "output_type": "stream",
     "text": [
      "C:\\Users\\y50046737\\AppData\\Local\\Temp\\ipykernel_23020\\2037271555.py:38: FutureWarning: The 'delim_whitespace' keyword in pd.read_csv is deprecated and will be removed in a future version. Use ``sep='\\s+'`` instead\n",
      "  df = pd.read_csv('netlist.sp.prn', delim_whitespace=True, skiprows=1, header=None)[[1, 4]]\n"
     ]
    },
    {
     "name": "stdout",
     "output_type": "stream",
     "text": [
      "Current error: 9.061705979256736e-07\n",
      "Current parameters: Parameters([('C_eq', <Parameter 'C_eq', value=np.float64(6.223013650338442e-16), bounds=[1e-24:1e-10]>)])\n"
     ]
    },
    {
     "name": "stderr",
     "output_type": "stream",
     "text": [
      "C:\\Users\\y50046737\\AppData\\Local\\Temp\\ipykernel_23020\\2037271555.py:38: FutureWarning: The 'delim_whitespace' keyword in pd.read_csv is deprecated and will be removed in a future version. Use ``sep='\\s+'`` instead\n",
      "  df = pd.read_csv('netlist.sp.prn', delim_whitespace=True, skiprows=1, header=None)[[1, 4]]\n"
     ]
    },
    {
     "name": "stdout",
     "output_type": "stream",
     "text": [
      "Current error: 9.061705975058301e-07\n",
      "Current parameters: Parameters([('C_eq', <Parameter 'C_eq', value=np.float64(6.222976478073176e-16), bounds=[1e-24:1e-10]>)])\n"
     ]
    },
    {
     "name": "stderr",
     "output_type": "stream",
     "text": [
      "C:\\Users\\y50046737\\AppData\\Local\\Temp\\ipykernel_23020\\2037271555.py:38: FutureWarning: The 'delim_whitespace' keyword in pd.read_csv is deprecated and will be removed in a future version. Use ``sep='\\s+'`` instead\n",
      "  df = pd.read_csv('netlist.sp.prn', delim_whitespace=True, skiprows=1, header=None)[[1, 4]]\n"
     ]
    },
    {
     "name": "stdout",
     "output_type": "stream",
     "text": [
      "Current error: 9.061705979256736e-07\n",
      "Current parameters: Parameters([('C_eq', <Parameter 'C_eq', value=np.float64(6.223013650282931e-16), bounds=[1e-24:1e-10]>)])\n"
     ]
    },
    {
     "name": "stderr",
     "output_type": "stream",
     "text": [
      "C:\\Users\\y50046737\\AppData\\Local\\Temp\\ipykernel_23020\\2037271555.py:38: FutureWarning: The 'delim_whitespace' keyword in pd.read_csv is deprecated and will be removed in a future version. Use ``sep='\\s+'`` instead\n",
      "  df = pd.read_csv('netlist.sp.prn', delim_whitespace=True, skiprows=1, header=None)[[1, 4]]\n"
     ]
    },
    {
     "name": "stdout",
     "output_type": "stream",
     "text": [
      "Current error: 9.061705974924471e-07\n",
      "Current parameters: Parameters([('C_eq', <Parameter 'C_eq', value=np.float64(6.222976478073176e-16), bounds=[1e-24:1e-10]>)])\n"
     ]
    },
    {
     "name": "stderr",
     "output_type": "stream",
     "text": [
      "C:\\Users\\y50046737\\AppData\\Local\\Temp\\ipykernel_23020\\2037271555.py:38: FutureWarning: The 'delim_whitespace' keyword in pd.read_csv is deprecated and will be removed in a future version. Use ``sep='\\s+'`` instead\n",
      "  df = pd.read_csv('netlist.sp.prn', delim_whitespace=True, skiprows=1, header=None)[[1, 4]]\n"
     ]
    },
    {
     "name": "stdout",
     "output_type": "stream",
     "text": [
      "Current error: 9.061705979256736e-07\n",
      "Current parameters: Parameters([('C_eq', <Parameter 'C_eq', value=np.float64(6.223013650338442e-16), bounds=[1e-24:1e-10]>)])\n"
     ]
    },
    {
     "name": "stderr",
     "output_type": "stream",
     "text": [
      "C:\\Users\\y50046737\\AppData\\Local\\Temp\\ipykernel_23020\\2037271555.py:38: FutureWarning: The 'delim_whitespace' keyword in pd.read_csv is deprecated and will be removed in a future version. Use ``sep='\\s+'`` instead\n",
      "  df = pd.read_csv('netlist.sp.prn', delim_whitespace=True, skiprows=1, header=None)[[1, 4]]\n"
     ]
    },
    {
     "name": "stdout",
     "output_type": "stream",
     "text": [
      "Current error: 9.061705975058301e-07\n",
      "Current parameters: Parameters([('C_eq', <Parameter 'C_eq', value=np.float64(6.222976478073176e-16), bounds=[1e-24:1e-10]>)])\n"
     ]
    },
    {
     "name": "stderr",
     "output_type": "stream",
     "text": [
      "C:\\Users\\y50046737\\AppData\\Local\\Temp\\ipykernel_23020\\2037271555.py:38: FutureWarning: The 'delim_whitespace' keyword in pd.read_csv is deprecated and will be removed in a future version. Use ``sep='\\s+'`` instead\n",
      "  df = pd.read_csv('netlist.sp.prn', delim_whitespace=True, skiprows=1, header=None)[[1, 4]]\n"
     ]
    },
    {
     "name": "stdout",
     "output_type": "stream",
     "text": [
      "Current error: 9.061705979256736e-07\n",
      "Current parameters: Parameters([('C_eq', <Parameter 'C_eq', value=np.float64(6.223013650282931e-16), bounds=[1e-24:1e-10]>)])\n"
     ]
    },
    {
     "name": "stderr",
     "output_type": "stream",
     "text": [
      "C:\\Users\\y50046737\\AppData\\Local\\Temp\\ipykernel_23020\\2037271555.py:38: FutureWarning: The 'delim_whitespace' keyword in pd.read_csv is deprecated and will be removed in a future version. Use ``sep='\\s+'`` instead\n",
      "  df = pd.read_csv('netlist.sp.prn', delim_whitespace=True, skiprows=1, header=None)[[1, 4]]\n"
     ]
    },
    {
     "name": "stdout",
     "output_type": "stream",
     "text": [
      "Current error: 9.061705974924471e-07\n",
      "Current parameters: Parameters([('C_eq', <Parameter 'C_eq', value=np.float64(6.222976478073176e-16), bounds=[1e-24:1e-10]>)])\n"
     ]
    },
    {
     "name": "stderr",
     "output_type": "stream",
     "text": [
      "C:\\Users\\y50046737\\AppData\\Local\\Temp\\ipykernel_23020\\2037271555.py:38: FutureWarning: The 'delim_whitespace' keyword in pd.read_csv is deprecated and will be removed in a future version. Use ``sep='\\s+'`` instead\n",
      "  df = pd.read_csv('netlist.sp.prn', delim_whitespace=True, skiprows=1, header=None)[[1, 4]]\n"
     ]
    },
    {
     "name": "stdout",
     "output_type": "stream",
     "text": [
      "Current error: 9.061705979256736e-07\n",
      "Current parameters: Parameters([('C_eq', <Parameter 'C_eq', value=np.float64(6.223013650338442e-16), bounds=[1e-24:1e-10]>)])\n"
     ]
    },
    {
     "name": "stderr",
     "output_type": "stream",
     "text": [
      "C:\\Users\\y50046737\\AppData\\Local\\Temp\\ipykernel_23020\\2037271555.py:38: FutureWarning: The 'delim_whitespace' keyword in pd.read_csv is deprecated and will be removed in a future version. Use ``sep='\\s+'`` instead\n",
      "  df = pd.read_csv('netlist.sp.prn', delim_whitespace=True, skiprows=1, header=None)[[1, 4]]\n"
     ]
    },
    {
     "name": "stdout",
     "output_type": "stream",
     "text": [
      "Current error: 9.061705975058301e-07\n",
      "Current parameters: Parameters([('C_eq', <Parameter 'C_eq', value=np.float64(6.222976478073176e-16), bounds=[1e-24:1e-10]>)])\n"
     ]
    },
    {
     "name": "stderr",
     "output_type": "stream",
     "text": [
      "C:\\Users\\y50046737\\AppData\\Local\\Temp\\ipykernel_23020\\2037271555.py:38: FutureWarning: The 'delim_whitespace' keyword in pd.read_csv is deprecated and will be removed in a future version. Use ``sep='\\s+'`` instead\n",
      "  df = pd.read_csv('netlist.sp.prn', delim_whitespace=True, skiprows=1, header=None)[[1, 4]]\n"
     ]
    },
    {
     "name": "stdout",
     "output_type": "stream",
     "text": [
      "Current error: 9.061705979256736e-07\n",
      "Current parameters: Parameters([('C_eq', <Parameter 'C_eq', value=np.float64(6.223013650282931e-16), bounds=[1e-24:1e-10]>)])\n"
     ]
    },
    {
     "name": "stderr",
     "output_type": "stream",
     "text": [
      "C:\\Users\\y50046737\\AppData\\Local\\Temp\\ipykernel_23020\\2037271555.py:38: FutureWarning: The 'delim_whitespace' keyword in pd.read_csv is deprecated and will be removed in a future version. Use ``sep='\\s+'`` instead\n",
      "  df = pd.read_csv('netlist.sp.prn', delim_whitespace=True, skiprows=1, header=None)[[1, 4]]\n"
     ]
    },
    {
     "name": "stdout",
     "output_type": "stream",
     "text": [
      "Current error: 9.061705974924471e-07\n",
      "Current parameters: Parameters([('C_eq', <Parameter 'C_eq', value=np.float64(6.222976478073176e-16), bounds=[1e-24:1e-10]>)])\n"
     ]
    },
    {
     "name": "stderr",
     "output_type": "stream",
     "text": [
      "C:\\Users\\y50046737\\AppData\\Local\\Temp\\ipykernel_23020\\2037271555.py:38: FutureWarning: The 'delim_whitespace' keyword in pd.read_csv is deprecated and will be removed in a future version. Use ``sep='\\s+'`` instead\n",
      "  df = pd.read_csv('netlist.sp.prn', delim_whitespace=True, skiprows=1, header=None)[[1, 4]]\n"
     ]
    },
    {
     "name": "stdout",
     "output_type": "stream",
     "text": [
      "Current error: 9.061705979256736e-07\n",
      "Current parameters: Parameters([('C_eq', <Parameter 'C_eq', value=np.float64(6.223013650338442e-16), bounds=[1e-24:1e-10]>)])\n"
     ]
    },
    {
     "name": "stderr",
     "output_type": "stream",
     "text": [
      "C:\\Users\\y50046737\\AppData\\Local\\Temp\\ipykernel_23020\\2037271555.py:38: FutureWarning: The 'delim_whitespace' keyword in pd.read_csv is deprecated and will be removed in a future version. Use ``sep='\\s+'`` instead\n",
      "  df = pd.read_csv('netlist.sp.prn', delim_whitespace=True, skiprows=1, header=None)[[1, 4]]\n"
     ]
    },
    {
     "name": "stdout",
     "output_type": "stream",
     "text": [
      "Current error: 9.061705975058301e-07\n",
      "Current parameters: Parameters([('C_eq', <Parameter 'C_eq', value=np.float64(6.222976478073176e-16), bounds=[1e-24:1e-10]>)])\n"
     ]
    },
    {
     "name": "stderr",
     "output_type": "stream",
     "text": [
      "C:\\Users\\y50046737\\AppData\\Local\\Temp\\ipykernel_23020\\2037271555.py:38: FutureWarning: The 'delim_whitespace' keyword in pd.read_csv is deprecated and will be removed in a future version. Use ``sep='\\s+'`` instead\n",
      "  df = pd.read_csv('netlist.sp.prn', delim_whitespace=True, skiprows=1, header=None)[[1, 4]]\n"
     ]
    },
    {
     "name": "stdout",
     "output_type": "stream",
     "text": [
      "Current error: 9.061705979256736e-07\n",
      "Current parameters: Parameters([('C_eq', <Parameter 'C_eq', value=np.float64(6.223013650282931e-16), bounds=[1e-24:1e-10]>)])\n"
     ]
    },
    {
     "name": "stderr",
     "output_type": "stream",
     "text": [
      "C:\\Users\\y50046737\\AppData\\Local\\Temp\\ipykernel_23020\\2037271555.py:38: FutureWarning: The 'delim_whitespace' keyword in pd.read_csv is deprecated and will be removed in a future version. Use ``sep='\\s+'`` instead\n",
      "  df = pd.read_csv('netlist.sp.prn', delim_whitespace=True, skiprows=1, header=None)[[1, 4]]\n"
     ]
    },
    {
     "name": "stdout",
     "output_type": "stream",
     "text": [
      "Current error: 9.061705974924471e-07\n",
      "Current parameters: Parameters([('C_eq', <Parameter 'C_eq', value=np.float64(6.222976478073176e-16), bounds=[1e-24:1e-10]>)])\n"
     ]
    },
    {
     "name": "stderr",
     "output_type": "stream",
     "text": [
      "C:\\Users\\y50046737\\AppData\\Local\\Temp\\ipykernel_23020\\2037271555.py:38: FutureWarning: The 'delim_whitespace' keyword in pd.read_csv is deprecated and will be removed in a future version. Use ``sep='\\s+'`` instead\n",
      "  df = pd.read_csv('netlist.sp.prn', delim_whitespace=True, skiprows=1, header=None)[[1, 4]]\n"
     ]
    },
    {
     "name": "stdout",
     "output_type": "stream",
     "text": [
      "Current error: 9.061705979256736e-07\n",
      "Current parameters: Parameters([('C_eq', <Parameter 'C_eq', value=np.float64(6.223013650338442e-16), bounds=[1e-24:1e-10]>)])\n"
     ]
    },
    {
     "name": "stderr",
     "output_type": "stream",
     "text": [
      "C:\\Users\\y50046737\\AppData\\Local\\Temp\\ipykernel_23020\\2037271555.py:38: FutureWarning: The 'delim_whitespace' keyword in pd.read_csv is deprecated and will be removed in a future version. Use ``sep='\\s+'`` instead\n",
      "  df = pd.read_csv('netlist.sp.prn', delim_whitespace=True, skiprows=1, header=None)[[1, 4]]\n"
     ]
    },
    {
     "name": "stdout",
     "output_type": "stream",
     "text": [
      "Current error: 9.061705975058301e-07\n",
      "Current parameters: Parameters([('C_eq', <Parameter 'C_eq', value=np.float64(6.222976478073176e-16), bounds=[1e-24:1e-10]>)])\n"
     ]
    },
    {
     "name": "stderr",
     "output_type": "stream",
     "text": [
      "C:\\Users\\y50046737\\AppData\\Local\\Temp\\ipykernel_23020\\2037271555.py:38: FutureWarning: The 'delim_whitespace' keyword in pd.read_csv is deprecated and will be removed in a future version. Use ``sep='\\s+'`` instead\n",
      "  df = pd.read_csv('netlist.sp.prn', delim_whitespace=True, skiprows=1, header=None)[[1, 4]]\n"
     ]
    },
    {
     "name": "stdout",
     "output_type": "stream",
     "text": [
      "Current error: 9.061705979256736e-07\n",
      "Current parameters: Parameters([('C_eq', <Parameter 'C_eq', value=np.float64(6.223013650282931e-16), bounds=[1e-24:1e-10]>)])\n"
     ]
    },
    {
     "name": "stderr",
     "output_type": "stream",
     "text": [
      "C:\\Users\\y50046737\\AppData\\Local\\Temp\\ipykernel_23020\\2037271555.py:38: FutureWarning: The 'delim_whitespace' keyword in pd.read_csv is deprecated and will be removed in a future version. Use ``sep='\\s+'`` instead\n",
      "  df = pd.read_csv('netlist.sp.prn', delim_whitespace=True, skiprows=1, header=None)[[1, 4]]\n"
     ]
    },
    {
     "name": "stdout",
     "output_type": "stream",
     "text": [
      "Current error: 9.061705974924471e-07\n",
      "Current parameters: Parameters([('C_eq', <Parameter 'C_eq', value=np.float64(6.222976478073176e-16), bounds=[1e-24:1e-10]>)])\n"
     ]
    },
    {
     "name": "stderr",
     "output_type": "stream",
     "text": [
      "C:\\Users\\y50046737\\AppData\\Local\\Temp\\ipykernel_23020\\2037271555.py:38: FutureWarning: The 'delim_whitespace' keyword in pd.read_csv is deprecated and will be removed in a future version. Use ``sep='\\s+'`` instead\n",
      "  df = pd.read_csv('netlist.sp.prn', delim_whitespace=True, skiprows=1, header=None)[[1, 4]]\n"
     ]
    },
    {
     "name": "stdout",
     "output_type": "stream",
     "text": [
      "Current error: 9.061705979256736e-07\n",
      "Current parameters: Parameters([('C_eq', <Parameter 'C_eq', value=np.float64(6.223013650338442e-16), bounds=[1e-24:1e-10]>)])\n"
     ]
    },
    {
     "name": "stderr",
     "output_type": "stream",
     "text": [
      "C:\\Users\\y50046737\\AppData\\Local\\Temp\\ipykernel_23020\\2037271555.py:38: FutureWarning: The 'delim_whitespace' keyword in pd.read_csv is deprecated and will be removed in a future version. Use ``sep='\\s+'`` instead\n",
      "  df = pd.read_csv('netlist.sp.prn', delim_whitespace=True, skiprows=1, header=None)[[1, 4]]\n"
     ]
    },
    {
     "name": "stdout",
     "output_type": "stream",
     "text": [
      "Current error: 9.061705975058301e-07\n",
      "Current parameters: Parameters([('C_eq', <Parameter 'C_eq', value=np.float64(6.222976478073176e-16), bounds=[1e-24:1e-10]>)])\n"
     ]
    },
    {
     "name": "stderr",
     "output_type": "stream",
     "text": [
      "C:\\Users\\y50046737\\AppData\\Local\\Temp\\ipykernel_23020\\2037271555.py:38: FutureWarning: The 'delim_whitespace' keyword in pd.read_csv is deprecated and will be removed in a future version. Use ``sep='\\s+'`` instead\n",
      "  df = pd.read_csv('netlist.sp.prn', delim_whitespace=True, skiprows=1, header=None)[[1, 4]]\n"
     ]
    },
    {
     "name": "stdout",
     "output_type": "stream",
     "text": [
      "Current error: 9.061705979256736e-07\n",
      "Current parameters: Parameters([('C_eq', <Parameter 'C_eq', value=np.float64(6.223013650282931e-16), bounds=[1e-24:1e-10]>)])\n"
     ]
    },
    {
     "name": "stderr",
     "output_type": "stream",
     "text": [
      "C:\\Users\\y50046737\\AppData\\Local\\Temp\\ipykernel_23020\\2037271555.py:38: FutureWarning: The 'delim_whitespace' keyword in pd.read_csv is deprecated and will be removed in a future version. Use ``sep='\\s+'`` instead\n",
      "  df = pd.read_csv('netlist.sp.prn', delim_whitespace=True, skiprows=1, header=None)[[1, 4]]\n"
     ]
    },
    {
     "name": "stdout",
     "output_type": "stream",
     "text": [
      "Current error: 9.061705974924471e-07\n",
      "Current parameters: Parameters([('C_eq', <Parameter 'C_eq', value=np.float64(6.222976478073176e-16), bounds=[1e-24:1e-10]>)])\n"
     ]
    },
    {
     "name": "stderr",
     "output_type": "stream",
     "text": [
      "C:\\Users\\y50046737\\AppData\\Local\\Temp\\ipykernel_23020\\2037271555.py:38: FutureWarning: The 'delim_whitespace' keyword in pd.read_csv is deprecated and will be removed in a future version. Use ``sep='\\s+'`` instead\n",
      "  df = pd.read_csv('netlist.sp.prn', delim_whitespace=True, skiprows=1, header=None)[[1, 4]]\n"
     ]
    },
    {
     "name": "stdout",
     "output_type": "stream",
     "text": [
      "Current error: 9.061705979256736e-07\n",
      "Current parameters: Parameters([('C_eq', <Parameter 'C_eq', value=np.float64(6.223013650338442e-16), bounds=[1e-24:1e-10]>)])\n"
     ]
    },
    {
     "name": "stderr",
     "output_type": "stream",
     "text": [
      "C:\\Users\\y50046737\\AppData\\Local\\Temp\\ipykernel_23020\\2037271555.py:38: FutureWarning: The 'delim_whitespace' keyword in pd.read_csv is deprecated and will be removed in a future version. Use ``sep='\\s+'`` instead\n",
      "  df = pd.read_csv('netlist.sp.prn', delim_whitespace=True, skiprows=1, header=None)[[1, 4]]\n"
     ]
    },
    {
     "name": "stdout",
     "output_type": "stream",
     "text": [
      "Current error: 9.061705975058301e-07\n",
      "Current parameters: Parameters([('C_eq', <Parameter 'C_eq', value=np.float64(6.222976478073176e-16), bounds=[1e-24:1e-10]>)])\n"
     ]
    },
    {
     "name": "stderr",
     "output_type": "stream",
     "text": [
      "C:\\Users\\y50046737\\AppData\\Local\\Temp\\ipykernel_23020\\2037271555.py:38: FutureWarning: The 'delim_whitespace' keyword in pd.read_csv is deprecated and will be removed in a future version. Use ``sep='\\s+'`` instead\n",
      "  df = pd.read_csv('netlist.sp.prn', delim_whitespace=True, skiprows=1, header=None)[[1, 4]]\n"
     ]
    },
    {
     "name": "stdout",
     "output_type": "stream",
     "text": [
      "Current error: 9.061705979256736e-07\n",
      "Current parameters: Parameters([('C_eq', <Parameter 'C_eq', value=np.float64(6.223013650282931e-16), bounds=[1e-24:1e-10]>)])\n"
     ]
    },
    {
     "name": "stderr",
     "output_type": "stream",
     "text": [
      "C:\\Users\\y50046737\\AppData\\Local\\Temp\\ipykernel_23020\\2037271555.py:38: FutureWarning: The 'delim_whitespace' keyword in pd.read_csv is deprecated and will be removed in a future version. Use ``sep='\\s+'`` instead\n",
      "  df = pd.read_csv('netlist.sp.prn', delim_whitespace=True, skiprows=1, header=None)[[1, 4]]\n"
     ]
    },
    {
     "name": "stdout",
     "output_type": "stream",
     "text": [
      "Current error: 9.061705974924471e-07\n",
      "Current parameters: Parameters([('C_eq', <Parameter 'C_eq', value=np.float64(6.222976478073176e-16), bounds=[1e-24:1e-10]>)])\n"
     ]
    },
    {
     "name": "stderr",
     "output_type": "stream",
     "text": [
      "C:\\Users\\y50046737\\AppData\\Local\\Temp\\ipykernel_23020\\2037271555.py:38: FutureWarning: The 'delim_whitespace' keyword in pd.read_csv is deprecated and will be removed in a future version. Use ``sep='\\s+'`` instead\n",
      "  df = pd.read_csv('netlist.sp.prn', delim_whitespace=True, skiprows=1, header=None)[[1, 4]]\n"
     ]
    },
    {
     "name": "stdout",
     "output_type": "stream",
     "text": [
      "Current error: 9.061705979256736e-07\n",
      "Current parameters: Parameters([('C_eq', <Parameter 'C_eq', value=np.float64(6.223013650338442e-16), bounds=[1e-24:1e-10]>)])\n"
     ]
    },
    {
     "name": "stderr",
     "output_type": "stream",
     "text": [
      "C:\\Users\\y50046737\\AppData\\Local\\Temp\\ipykernel_23020\\2037271555.py:38: FutureWarning: The 'delim_whitespace' keyword in pd.read_csv is deprecated and will be removed in a future version. Use ``sep='\\s+'`` instead\n",
      "  df = pd.read_csv('netlist.sp.prn', delim_whitespace=True, skiprows=1, header=None)[[1, 4]]\n"
     ]
    },
    {
     "name": "stdout",
     "output_type": "stream",
     "text": [
      "Current error: 9.061705975058301e-07\n",
      "Current parameters: Parameters([('C_eq', <Parameter 'C_eq', value=np.float64(6.222976478073176e-16), bounds=[1e-24:1e-10]>)])\n"
     ]
    },
    {
     "name": "stderr",
     "output_type": "stream",
     "text": [
      "C:\\Users\\y50046737\\AppData\\Local\\Temp\\ipykernel_23020\\2037271555.py:38: FutureWarning: The 'delim_whitespace' keyword in pd.read_csv is deprecated and will be removed in a future version. Use ``sep='\\s+'`` instead\n",
      "  df = pd.read_csv('netlist.sp.prn', delim_whitespace=True, skiprows=1, header=None)[[1, 4]]\n"
     ]
    },
    {
     "name": "stdout",
     "output_type": "stream",
     "text": [
      "Current error: 9.061705979256736e-07\n",
      "Current parameters: Parameters([('C_eq', <Parameter 'C_eq', value=np.float64(6.223013650282931e-16), bounds=[1e-24:1e-10]>)])\n"
     ]
    },
    {
     "name": "stderr",
     "output_type": "stream",
     "text": [
      "C:\\Users\\y50046737\\AppData\\Local\\Temp\\ipykernel_23020\\2037271555.py:38: FutureWarning: The 'delim_whitespace' keyword in pd.read_csv is deprecated and will be removed in a future version. Use ``sep='\\s+'`` instead\n",
      "  df = pd.read_csv('netlist.sp.prn', delim_whitespace=True, skiprows=1, header=None)[[1, 4]]\n"
     ]
    },
    {
     "name": "stdout",
     "output_type": "stream",
     "text": [
      "Current error: 9.061705974924471e-07\n",
      "Current parameters: Parameters([('C_eq', <Parameter 'C_eq', value=np.float64(6.222976478073176e-16), bounds=[1e-24:1e-10]>)])\n"
     ]
    },
    {
     "name": "stderr",
     "output_type": "stream",
     "text": [
      "C:\\Users\\y50046737\\AppData\\Local\\Temp\\ipykernel_23020\\2037271555.py:38: FutureWarning: The 'delim_whitespace' keyword in pd.read_csv is deprecated and will be removed in a future version. Use ``sep='\\s+'`` instead\n",
      "  df = pd.read_csv('netlist.sp.prn', delim_whitespace=True, skiprows=1, header=None)[[1, 4]]\n"
     ]
    },
    {
     "name": "stdout",
     "output_type": "stream",
     "text": [
      "Current error: 9.061705979256736e-07\n",
      "Current parameters: Parameters([('C_eq', <Parameter 'C_eq', value=np.float64(6.223013650338442e-16), bounds=[1e-24:1e-10]>)])\n"
     ]
    },
    {
     "name": "stderr",
     "output_type": "stream",
     "text": [
      "C:\\Users\\y50046737\\AppData\\Local\\Temp\\ipykernel_23020\\2037271555.py:38: FutureWarning: The 'delim_whitespace' keyword in pd.read_csv is deprecated and will be removed in a future version. Use ``sep='\\s+'`` instead\n",
      "  df = pd.read_csv('netlist.sp.prn', delim_whitespace=True, skiprows=1, header=None)[[1, 4]]\n"
     ]
    },
    {
     "name": "stdout",
     "output_type": "stream",
     "text": [
      "Current error: 9.061705975058301e-07\n",
      "Current parameters: Parameters([('C_eq', <Parameter 'C_eq', value=np.float64(6.222976478073176e-16), bounds=[1e-24:1e-10]>)])\n"
     ]
    },
    {
     "name": "stderr",
     "output_type": "stream",
     "text": [
      "C:\\Users\\y50046737\\AppData\\Local\\Temp\\ipykernel_23020\\2037271555.py:38: FutureWarning: The 'delim_whitespace' keyword in pd.read_csv is deprecated and will be removed in a future version. Use ``sep='\\s+'`` instead\n",
      "  df = pd.read_csv('netlist.sp.prn', delim_whitespace=True, skiprows=1, header=None)[[1, 4]]\n"
     ]
    },
    {
     "name": "stdout",
     "output_type": "stream",
     "text": [
      "Current error: 9.061705979256736e-07\n",
      "Current parameters: Parameters([('C_eq', <Parameter 'C_eq', value=np.float64(6.223013650282931e-16), bounds=[1e-24:1e-10]>)])\n"
     ]
    },
    {
     "name": "stderr",
     "output_type": "stream",
     "text": [
      "C:\\Users\\y50046737\\AppData\\Local\\Temp\\ipykernel_23020\\2037271555.py:38: FutureWarning: The 'delim_whitespace' keyword in pd.read_csv is deprecated and will be removed in a future version. Use ``sep='\\s+'`` instead\n",
      "  df = pd.read_csv('netlist.sp.prn', delim_whitespace=True, skiprows=1, header=None)[[1, 4]]\n"
     ]
    },
    {
     "name": "stdout",
     "output_type": "stream",
     "text": [
      "Current error: 9.061705974924471e-07\n",
      "Current parameters: Parameters([('C_eq', <Parameter 'C_eq', value=np.float64(6.222976478073176e-16), bounds=[1e-24:1e-10]>)])\n"
     ]
    },
    {
     "name": "stderr",
     "output_type": "stream",
     "text": [
      "C:\\Users\\y50046737\\AppData\\Local\\Temp\\ipykernel_23020\\2037271555.py:38: FutureWarning: The 'delim_whitespace' keyword in pd.read_csv is deprecated and will be removed in a future version. Use ``sep='\\s+'`` instead\n",
      "  df = pd.read_csv('netlist.sp.prn', delim_whitespace=True, skiprows=1, header=None)[[1, 4]]\n"
     ]
    },
    {
     "name": "stdout",
     "output_type": "stream",
     "text": [
      "Current error: 9.061705979256736e-07\n",
      "Current parameters: Parameters([('C_eq', <Parameter 'C_eq', value=np.float64(6.223013650338442e-16), bounds=[1e-24:1e-10]>)])\n"
     ]
    },
    {
     "name": "stderr",
     "output_type": "stream",
     "text": [
      "C:\\Users\\y50046737\\AppData\\Local\\Temp\\ipykernel_23020\\2037271555.py:38: FutureWarning: The 'delim_whitespace' keyword in pd.read_csv is deprecated and will be removed in a future version. Use ``sep='\\s+'`` instead\n",
      "  df = pd.read_csv('netlist.sp.prn', delim_whitespace=True, skiprows=1, header=None)[[1, 4]]\n"
     ]
    },
    {
     "name": "stdout",
     "output_type": "stream",
     "text": [
      "Current error: 9.061705975058301e-07\n",
      "Current parameters: Parameters([('C_eq', <Parameter 'C_eq', value=np.float64(6.222976478073176e-16), bounds=[1e-24:1e-10]>)])\n"
     ]
    },
    {
     "name": "stderr",
     "output_type": "stream",
     "text": [
      "C:\\Users\\y50046737\\AppData\\Local\\Temp\\ipykernel_23020\\2037271555.py:38: FutureWarning: The 'delim_whitespace' keyword in pd.read_csv is deprecated and will be removed in a future version. Use ``sep='\\s+'`` instead\n",
      "  df = pd.read_csv('netlist.sp.prn', delim_whitespace=True, skiprows=1, header=None)[[1, 4]]\n"
     ]
    },
    {
     "name": "stdout",
     "output_type": "stream",
     "text": [
      "Current error: 9.061705979256736e-07\n",
      "Current parameters: Parameters([('C_eq', <Parameter 'C_eq', value=np.float64(6.223013650282931e-16), bounds=[1e-24:1e-10]>)])\n"
     ]
    },
    {
     "name": "stderr",
     "output_type": "stream",
     "text": [
      "C:\\Users\\y50046737\\AppData\\Local\\Temp\\ipykernel_23020\\2037271555.py:38: FutureWarning: The 'delim_whitespace' keyword in pd.read_csv is deprecated and will be removed in a future version. Use ``sep='\\s+'`` instead\n",
      "  df = pd.read_csv('netlist.sp.prn', delim_whitespace=True, skiprows=1, header=None)[[1, 4]]\n"
     ]
    },
    {
     "name": "stdout",
     "output_type": "stream",
     "text": [
      "Current error: 9.061705974924471e-07\n",
      "Current parameters: Parameters([('C_eq', <Parameter 'C_eq', value=np.float64(6.222976478073176e-16), bounds=[1e-24:1e-10]>)])\n"
     ]
    },
    {
     "name": "stderr",
     "output_type": "stream",
     "text": [
      "C:\\Users\\y50046737\\AppData\\Local\\Temp\\ipykernel_23020\\2037271555.py:38: FutureWarning: The 'delim_whitespace' keyword in pd.read_csv is deprecated and will be removed in a future version. Use ``sep='\\s+'`` instead\n",
      "  df = pd.read_csv('netlist.sp.prn', delim_whitespace=True, skiprows=1, header=None)[[1, 4]]\n"
     ]
    },
    {
     "name": "stdout",
     "output_type": "stream",
     "text": [
      "Current error: 9.061705979256736e-07\n",
      "Current parameters: Parameters([('C_eq', <Parameter 'C_eq', value=np.float64(6.223025542270326e-16), bounds=[1e-24:1e-10]>)])\n"
     ]
    },
    {
     "name": "stderr",
     "output_type": "stream",
     "text": [
      "C:\\Users\\y50046737\\AppData\\Local\\Temp\\ipykernel_23020\\2037271555.py:38: FutureWarning: The 'delim_whitespace' keyword in pd.read_csv is deprecated and will be removed in a future version. Use ``sep='\\s+'`` instead\n",
      "  df = pd.read_csv('netlist.sp.prn', delim_whitespace=True, skiprows=1, header=None)[[1, 4]]\n"
     ]
    },
    {
     "name": "stdout",
     "output_type": "stream",
     "text": [
      "Current error: 9.061705976541815e-07\n",
      "Current parameters: Parameters([('C_eq', <Parameter 'C_eq', value=np.float64(6.223016394199137e-16), bounds=[1e-24:1e-10]>)])\n"
     ]
    },
    {
     "name": "stderr",
     "output_type": "stream",
     "text": [
      "C:\\Users\\y50046737\\AppData\\Local\\Temp\\ipykernel_23020\\2037271555.py:38: FutureWarning: The 'delim_whitespace' keyword in pd.read_csv is deprecated and will be removed in a future version. Use ``sep='\\s+'`` instead\n",
      "  df = pd.read_csv('netlist.sp.prn', delim_whitespace=True, skiprows=1, header=None)[[1, 4]]\n"
     ]
    },
    {
     "name": "stdout",
     "output_type": "stream",
     "text": [
      "Current error: 9.061705975266002e-07\n",
      "Current parameters: Parameters([('C_eq', <Parameter 'C_eq', value=np.float64(6.223014224157213e-16), bounds=[1e-24:1e-10]>)])\n"
     ]
    },
    {
     "name": "stderr",
     "output_type": "stream",
     "text": [
      "C:\\Users\\y50046737\\AppData\\Local\\Temp\\ipykernel_23020\\2037271555.py:38: FutureWarning: The 'delim_whitespace' keyword in pd.read_csv is deprecated and will be removed in a future version. Use ``sep='\\s+'`` instead\n",
      "  df = pd.read_csv('netlist.sp.prn', delim_whitespace=True, skiprows=1, header=None)[[1, 4]]\n"
     ]
    },
    {
     "name": "stdout",
     "output_type": "stream",
     "text": [
      "Current error: 9.061705975067938e-07\n",
      "Current parameters: Parameters([('C_eq', <Parameter 'C_eq', value=np.float64(6.223013741487752e-16), bounds=[1e-24:1e-10]>)])\n"
     ]
    },
    {
     "name": "stderr",
     "output_type": "stream",
     "text": [
      "C:\\Users\\y50046737\\AppData\\Local\\Temp\\ipykernel_23020\\2037271555.py:38: FutureWarning: The 'delim_whitespace' keyword in pd.read_csv is deprecated and will be removed in a future version. Use ``sep='\\s+'`` instead\n",
      "  df = pd.read_csv('netlist.sp.prn', delim_whitespace=True, skiprows=1, header=None)[[1, 4]]\n"
     ]
    },
    {
     "name": "stdout",
     "output_type": "stream",
     "text": [
      "Current error: 9.061705975032003e-07\n",
      "Current parameters: Parameters([('C_eq', <Parameter 'C_eq', value=np.float64(6.223013695913097e-16), bounds=[1e-24:1e-10]>)])\n"
     ]
    },
    {
     "name": "stderr",
     "output_type": "stream",
     "text": [
      "C:\\Users\\y50046737\\AppData\\Local\\Temp\\ipykernel_23020\\2037271555.py:38: FutureWarning: The 'delim_whitespace' keyword in pd.read_csv is deprecated and will be removed in a future version. Use ``sep='\\s+'`` instead\n",
      "  df = pd.read_csv('netlist.sp.prn', delim_whitespace=True, skiprows=1, header=None)[[1, 4]]\n"
     ]
    },
    {
     "name": "stdout",
     "output_type": "stream",
     "text": [
      "Current error: 9.061705975113881e-07\n",
      "Current parameters: Parameters([('C_eq', <Parameter 'C_eq', value=np.float64(6.223013673098014e-16), bounds=[1e-24:1e-10]>)])\n"
     ]
    },
    {
     "name": "stderr",
     "output_type": "stream",
     "text": [
      "C:\\Users\\y50046737\\AppData\\Local\\Temp\\ipykernel_23020\\2037271555.py:38: FutureWarning: The 'delim_whitespace' keyword in pd.read_csv is deprecated and will be removed in a future version. Use ``sep='\\s+'`` instead\n",
      "  df = pd.read_csv('netlist.sp.prn', delim_whitespace=True, skiprows=1, header=None)[[1, 4]]\n"
     ]
    },
    {
     "name": "stdout",
     "output_type": "stream",
     "text": [
      "Current error: 9.061705975075304e-07\n",
      "Current parameters: Parameters([('C_eq', <Parameter 'C_eq', value=np.float64(6.223013661662717e-16), bounds=[1e-24:1e-10]>)])\n"
     ]
    },
    {
     "name": "stderr",
     "output_type": "stream",
     "text": [
      "C:\\Users\\y50046737\\AppData\\Local\\Temp\\ipykernel_23020\\2037271555.py:38: FutureWarning: The 'delim_whitespace' keyword in pd.read_csv is deprecated and will be removed in a future version. Use ``sep='\\s+'`` instead\n",
      "  df = pd.read_csv('netlist.sp.prn', delim_whitespace=True, skiprows=1, header=None)[[1, 4]]\n"
     ]
    },
    {
     "name": "stdout",
     "output_type": "stream",
     "text": [
      "Current error: 9.061705974958024e-07\n",
      "Current parameters: Parameters([('C_eq', <Parameter 'C_eq', value=np.float64(6.22301365600058e-16), bounds=[1e-24:1e-10]>)])\n"
     ]
    },
    {
     "name": "stderr",
     "output_type": "stream",
     "text": [
      "C:\\Users\\y50046737\\AppData\\Local\\Temp\\ipykernel_23020\\2037271555.py:38: FutureWarning: The 'delim_whitespace' keyword in pd.read_csv is deprecated and will be removed in a future version. Use ``sep='\\s+'`` instead\n",
      "  df = pd.read_csv('netlist.sp.prn', delim_whitespace=True, skiprows=1, header=None)[[1, 4]]\n"
     ]
    },
    {
     "name": "stdout",
     "output_type": "stream",
     "text": [
      "Current error: 9.061705974910501e-07\n",
      "Current parameters: Parameters([('C_eq', <Parameter 'C_eq', value=np.float64(6.222976483735314e-16), bounds=[1e-24:1e-10]>)])\n"
     ]
    },
    {
     "name": "stderr",
     "output_type": "stream",
     "text": [
      "C:\\Users\\y50046737\\AppData\\Local\\Temp\\ipykernel_23020\\2037271555.py:38: FutureWarning: The 'delim_whitespace' keyword in pd.read_csv is deprecated and will be removed in a future version. Use ``sep='\\s+'`` instead\n",
      "  df = pd.read_csv('netlist.sp.prn', delim_whitespace=True, skiprows=1, header=None)[[1, 4]]\n"
     ]
    },
    {
     "name": "stdout",
     "output_type": "stream",
     "text": [
      "Current error: 9.061705979175902e-07\n",
      "Current parameters: Parameters([('C_eq', <Parameter 'C_eq', value=np.float64(6.223013658831648e-16), bounds=[1e-24:1e-10]>)])\n"
     ]
    },
    {
     "name": "stderr",
     "output_type": "stream",
     "text": [
      "C:\\Users\\y50046737\\AppData\\Local\\Temp\\ipykernel_23020\\2037271555.py:38: FutureWarning: The 'delim_whitespace' keyword in pd.read_csv is deprecated and will be removed in a future version. Use ``sep='\\s+'`` instead\n",
      "  df = pd.read_csv('netlist.sp.prn', delim_whitespace=True, skiprows=1, header=None)[[1, 4]]\n"
     ]
    },
    {
     "name": "stdout",
     "output_type": "stream",
     "text": [
      "Current error: 9.061705975001731e-07\n",
      "Current parameters: Parameters([('C_eq', <Parameter 'C_eq', value=np.float64(6.223013657388359e-16), bounds=[1e-24:1e-10]>)])\n"
     ]
    },
    {
     "name": "stderr",
     "output_type": "stream",
     "text": [
      "C:\\Users\\y50046737\\AppData\\Local\\Temp\\ipykernel_23020\\2037271555.py:38: FutureWarning: The 'delim_whitespace' keyword in pd.read_csv is deprecated and will be removed in a future version. Use ``sep='\\s+'`` instead\n",
      "  df = pd.read_csv('netlist.sp.prn', delim_whitespace=True, skiprows=1, header=None)[[1, 4]]\n"
     ]
    },
    {
     "name": "stdout",
     "output_type": "stream",
     "text": [
      "Current error: 9.061705975037925e-07\n",
      "Current parameters: Parameters([('C_eq', <Parameter 'C_eq', value=np.float64(6.223013656666714e-16), bounds=[1e-24:1e-10]>)])\n"
     ]
    },
    {
     "name": "stderr",
     "output_type": "stream",
     "text": [
      "C:\\Users\\y50046737\\AppData\\Local\\Temp\\ipykernel_23020\\2037271555.py:38: FutureWarning: The 'delim_whitespace' keyword in pd.read_csv is deprecated and will be removed in a future version. Use ``sep='\\s+'`` instead\n",
      "  df = pd.read_csv('netlist.sp.prn', delim_whitespace=True, skiprows=1, header=None)[[1, 4]]\n"
     ]
    },
    {
     "name": "stdout",
     "output_type": "stream",
     "text": [
      "Current error: 9.061705974900915e-07\n",
      "Current parameters: Parameters([('C_eq', <Parameter 'C_eq', value=np.float64(6.222976484456959e-16), bounds=[1e-24:1e-10]>)])\n"
     ]
    },
    {
     "name": "stderr",
     "output_type": "stream",
     "text": [
      "C:\\Users\\y50046737\\AppData\\Local\\Temp\\ipykernel_23020\\2037271555.py:38: FutureWarning: The 'delim_whitespace' keyword in pd.read_csv is deprecated and will be removed in a future version. Use ``sep='\\s+'`` instead\n",
      "  df = pd.read_csv('netlist.sp.prn', delim_whitespace=True, skiprows=1, header=None)[[1, 4]]\n"
     ]
    },
    {
     "name": "stdout",
     "output_type": "stream",
     "text": [
      "Current error: 9.061705979189311e-07\n",
      "Current parameters: Parameters([('C_eq', <Parameter 'C_eq', value=np.float64(6.223013657055292e-16), bounds=[1e-24:1e-10]>)])\n"
     ]
    },
    {
     "name": "stderr",
     "output_type": "stream",
     "text": [
      "C:\\Users\\y50046737\\AppData\\Local\\Temp\\ipykernel_23020\\2037271555.py:38: FutureWarning: The 'delim_whitespace' keyword in pd.read_csv is deprecated and will be removed in a future version. Use ``sep='\\s+'`` instead\n",
      "  df = pd.read_csv('netlist.sp.prn', delim_whitespace=True, skiprows=1, header=None)[[1, 4]]\n"
     ]
    },
    {
     "name": "stdout",
     "output_type": "stream",
     "text": [
      "Current error: 9.061705975051708e-07\n",
      "Current parameters: Parameters([('C_eq', <Parameter 'C_eq', value=np.float64(6.223013650282931e-16), bounds=[1e-24:1e-10]>)])\n",
      "Current error: 9.061705974924471e-07\n",
      "[[Fit Statistics]]\n",
      "    # fitting method   = BFGS\n",
      "    # function evals   = 132\n",
      "    # data points      = 1\n",
      "    # variables        = 1\n",
      "    chi-square         = 8.2115e-13\n",
      "    reduced chi-square = 8.2115e-13\n",
      "    Akaike info crit   = -25.8280765\n",
      "    Bayesian info crit = -27.8280765\n",
      "##  Warning: uncertainties could not be estimated:\n",
      "    this fitting method does not natively calculate uncertainties\n",
      "    and numdifftools is not installed for lmfit to do this. Use\n",
      "    `pip install numdifftools` for lmfit to estimate uncertainties\n",
      "    with this fitting method.\n",
      "[[Variables]]\n",
      "    C_eq:  6.2230e-16 (init = 1e-15)\n"
     ]
    },
    {
     "name": "stderr",
     "output_type": "stream",
     "text": [
      "C:\\Users\\y50046737\\AppData\\Local\\Temp\\ipykernel_23020\\2037271555.py:38: FutureWarning: The 'delim_whitespace' keyword in pd.read_csv is deprecated and will be removed in a future version. Use ``sep='\\s+'`` instead\n",
      "  df = pd.read_csv('netlist.sp.prn', delim_whitespace=True, skiprows=1, header=None)[[1, 4]]\n"
     ]
    }
   ],
   "source": [
    "initial_params = Parameters()\n",
    "initial_params.add('C_eq', value=1e-15, min=1e-24, max= 1e-10)  \n",
    "fit_kws = {\n",
    "    'max_nfev':1500,\n",
    "    'tol':1e-10,\n",
    "}\n",
    "result =lmfit.minimize(objective_function, initial_params, method='bfgs', **fit_kws)\n",
    "lmfit.report_fit(result)"
   ]
  }
 ],
 "metadata": {
  "kernelspec": {
   "display_name": "Python 3",
   "language": "python",
   "name": "python3"
  },
  "language_info": {
   "codemirror_mode": {
    "name": "ipython",
    "version": 3
   },
   "file_extension": ".py",
   "mimetype": "text/x-python",
   "name": "python",
   "nbconvert_exporter": "python",
   "pygments_lexer": "ipython3",
   "version": "3.11.9"
  }
 },
 "nbformat": 4,
 "nbformat_minor": 5
}
